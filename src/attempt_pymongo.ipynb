{
 "cells": [
  {
   "cell_type": "markdown",
   "metadata": {},
   "source": [
    "# Loading a file using Pymongo on a MongoDB"
   ]
  },
  {
   "cell_type": "markdown",
   "metadata": {},
   "source": [
    "## Step 1: from command line start the database server"
   ]
  },
  {
   "cell_type": "markdown",
   "metadata": {},
   "source": [
    "After having installed mongodb on the machine (for ArchLinux `yay -S mongodb-bin` and `mongodb-tools-bin`), the database should be started.\n",
    "On ArchLinux, the database is launched on `localhost:27017/` through the command `sudo systemctl start mongodb`.\n",
    "On Windows, in the folder `C:\\Program Files\\MongoDB\\Server\\4.2\\bin` launch `mongod`"
   ]
  },
  {
   "cell_type": "markdown",
   "metadata": {},
   "source": [
    "## Step 2: from command line create the database"
   ]
  },
  {
   "cell_type": "markdown",
   "metadata": {},
   "source": [
    "From any folder on your computer, execute `mongoimport --db dbName --collection collectionName --file myPathToJson.json --jsonArray`, where `dbName` is the name you need to refer to from the Python code, `collectionName` is the collection name you will refer to in the Python code and `myPathToJson.json` is the path from the working directory to the json file on your laptop."
   ]
  },
  {
   "cell_type": "markdown",
   "metadata": {},
   "source": [
    "## Step 3: from Jupyter open the db"
   ]
  },
  {
   "cell_type": "code",
   "execution_count": null,
   "metadata": {},
   "outputs": [],
   "source": [
    "import pymongo\n",
    "\n",
    "myclient = pymongo.MongoClient(\"mongodb://localhost:27017/\")\n",
    "\n",
    "mydb = myclient[\"dbName\"]"
   ]
  },
  {
   "cell_type": "code",
   "execution_count": 9,
   "metadata": {},
   "outputs": [],
   "source": [
    "myCol = mydb.collectionName"
   ]
  },
  {
   "cell_type": "code",
   "execution_count": 10,
   "metadata": {},
   "outputs": [
    {
     "data": {
      "text/plain": [
       "{'_id': ObjectId('5d9edf0471c145a37cc93803'),\n",
       " 'eventId': 8,\n",
       " 'subEventName': 'Simple pass',\n",
       " 'tags': [{'id': 1801}],\n",
       " 'playerId': 20438,\n",
       " 'positions': [{'y': 44, 'x': 43}, {'y': 17, 'x': 36}],\n",
       " 'matchId': 2575959,\n",
       " 'eventName': 'Pass',\n",
       " 'teamId': 3158,\n",
       " 'matchPeriod': '1H',\n",
       " 'eventSec': 3.768417999999997,\n",
       " 'subEventId': 85,\n",
       " 'id': 180423958}"
      ]
     },
     "execution_count": 10,
     "metadata": {},
     "output_type": "execute_result"
    }
   ],
   "source": [
    "myCol.find_one()"
   ]
  },
  {
   "cell_type": "code",
   "execution_count": null,
   "metadata": {},
   "outputs": [],
   "source": []
  }
 ],
 "metadata": {
  "kernelspec": {
   "display_name": "Python 3",
   "language": "python",
   "name": "python3"
  },
  "language_info": {
   "codemirror_mode": {
    "name": "ipython",
    "version": 3
   },
   "file_extension": ".py",
   "mimetype": "text/x-python",
   "name": "python",
   "nbconvert_exporter": "python",
   "pygments_lexer": "ipython3",
   "version": "3.7.4"
  }
 },
 "nbformat": 4,
 "nbformat_minor": 2
}
