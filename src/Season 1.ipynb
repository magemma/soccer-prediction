{
 "cells": [
  {
   "cell_type": "markdown",
   "metadata": {},
   "source": [
    "# Soccer Dataset"
   ]
  },
  {
   "cell_type": "markdown",
   "metadata": {},
   "source": [
    "Importing the libraries"
   ]
  },
  {
   "cell_type": "code",
   "execution_count": 15,
   "metadata": {},
   "outputs": [],
   "source": [
    "import pandas as pd\n",
    "import pymongo\n",
    "\n",
    "from time import mktime\n",
    "from dateutil import parser\n",
    "from time import strptime\n",
    "from pymongo import MongoClient\n",
    "from tqdm import tqdm"
   ]
  },
  {
   "cell_type": "markdown",
   "metadata": {},
   "source": [
    "## Creating New Features and Add Them to a Collection in MongoDB"
   ]
  },
  {
   "cell_type": "markdown",
   "metadata": {},
   "source": [
    "Now we want to first create new features.\n",
    "The first thing is to connect to a pymongo database."
   ]
  },
  {
   "cell_type": "code",
   "execution_count": 16,
   "metadata": {},
   "outputs": [],
   "source": [
    "client = MongoClient(host='10.101.24.100')\n",
    "db = client.soccerdb"
   ]
  },
  {
   "cell_type": "markdown",
   "metadata": {},
   "source": [
    "Below we define a function which we need it for the rest.\n",
    "It calculates the number of a palticular event for an specific match and team"
   ]
  },
  {
   "cell_type": "code",
   "execution_count": 17,
   "metadata": {},
   "outputs": [],
   "source": [
    "def count_some_event(event, matchId=None, teamId=None, playerId=None, extra_cond={}):\n",
    "    cond = {'eventName': event}\n",
    "    cond.update(extra_cond)\n",
    "    \n",
    "    if matchId is not None:\n",
    "        cond.update({'matchId': matchId})\n",
    "    if teamId is not None:\n",
    "        cond.update({'teamId': teamId})\n",
    "    if playerId is not None:\n",
    "        cond.update('playerId')\n",
    "        \n",
    "        \n",
    "    return db.events.count_documents(cond)"
   ]
  },
  {
   "cell_type": "markdown",
   "metadata": {},
   "source": [
    "Also we need the set of all matches and the corresponding teams to work with."
   ]
  },
  {
   "cell_type": "code",
   "execution_count": 18,
   "metadata": {},
   "outputs": [],
   "source": [
    "set_matches2teams = set(map(lambda dic: (dic['matchId'], dic['teamId']), db.events.find(\n",
    "    {'eventName': 'Pass', 'matchPeriod': '1H'}, \n",
    "    {'_id': 0, 'matchId': 1, 'teamId': 1})))"
   ]
  },
  {
   "cell_type": "markdown",
   "metadata": {},
   "source": [
    "Now It is time to creating features"
   ]
  },
  {
   "cell_type": "markdown",
   "metadata": {},
   "source": [
    "### 1. Count the number of each event in the first half of the game"
   ]
  },
  {
   "cell_type": "markdown",
   "metadata": {},
   "source": [
    "First we should get the list of all events. In order to do this we find 3 different matchIds to find the set of events inside them. This helps decreasing the probability of not seeing an event due to it's absence in a random game."
   ]
  },
  {
   "cell_type": "code",
   "execution_count": 19,
   "metadata": {},
   "outputs": [],
   "source": [
    "some_matchids = [x['matchId'] for x in db.events.find({}, {'_id': 0, 'matchId': 1}, limit=3)]\n",
    "set_event_names = set([x['eventName'] for x in db.events.find({\n",
    "    'matchId': {'$in': some_matchids}}, {'_id': 0, 'eventName': 1})])"
   ]
  },
  {
   "cell_type": "markdown",
   "metadata": {},
   "source": [
    "Now we count and add the number of each event of the match for each team"
   ]
  },
  {
   "cell_type": "code",
   "execution_count": 20,
   "metadata": {},
   "outputs": [],
   "source": [
    "for matchId, teamId in set_matches2teams:\n",
    "    base = {\n",
    "        'matchId': matchId,\n",
    "        'teamId': teamId\n",
    "    }\n",
    "    for event in set_event_names:\n",
    "        db.results.update_one(base, {\n",
    "            '$set': {\n",
    "                'num{}'.format(\n",
    "                    event.title().replace(' ', '')\n",
    "                ): count_some_event(event, matchId, teamId, extra_cond={'matchPeriod': '1H'})\n",
    "            }\n",
    "        }, upsert=True)"
   ]
  },
  {
   "cell_type": "markdown",
   "metadata": {},
   "source": [
    "### 2. Are they playing at their home?"
   ]
  },
  {
   "cell_type": "markdown",
   "metadata": {},
   "source": [
    "If true, the team is playing at their own home. This might be correlated to the winning because of the weather condition, time zone, being exhausted or emotional state of the players."
   ]
  },
  {
   "cell_type": "code",
   "execution_count": 21,
   "metadata": {},
   "outputs": [
    {
     "name": "stderr",
     "output_type": "stream",
     "text": [
      "100%|██████████| 102/102 [00:01<00:00, 96.32it/s]\n"
     ]
    }
   ],
   "source": [
    "for matchId, teamId in tqdm(set_matches2teams):\n",
    "    isHome = db.matches.find_one({'wyId': matchId},\n",
    "                                 {'_id': 0, 'teamsData.{}.side'.format(str(teamId)): 1}\n",
    "                                )['teamsData'][str(teamId)]['side']\n",
    "    isHome = (isHome == 'home')\n",
    "    db.results.update_one({'matchId': matchId, 'teamId': teamId}, {'$set': {'isHome': isHome}})"
   ]
  },
  {
   "cell_type": "markdown",
   "metadata": {},
   "source": [
    "### 3. Percentage of Accurate Passes\n",
    "Being accurate when passing can be an indication of how good a team is performing during the game. This can later on be examined in moving windows."
   ]
  },
  {
   "cell_type": "code",
   "execution_count": 22,
   "metadata": {},
   "outputs": [
    {
     "name": "stderr",
     "output_type": "stream",
     "text": [
      "100%|██████████| 102/102 [00:17<00:00,  5.89it/s]\n"
     ]
    }
   ],
   "source": [
    "for match_id, team_id in tqdm(list(set_matches2teams)):\n",
    "    num_pass = count_some_event('Pass', match_id, team_id, extra_cond={'matchPeriod': '1H'})\n",
    "    num_accurate_pass = count_some_event('Pass', match_id, team_id, extra_cond={\n",
    "        'matchPeriod': '1H',\n",
    "        'tags.id': 1801\n",
    "    })\n",
    "    rate = num_accurate_pass / num_pass\n",
    "    db.results.update_one({'matchId': match_id, 'teamId': team_id}, {\n",
    "        '$set': {'numAccuratePass': num_accurate_pass, 'rateAccuratePass': rate}\n",
    "    })"
   ]
  },
  {
   "cell_type": "markdown",
   "metadata": {},
   "source": [
    "### 4. Mean score\n",
    "We find the mean scores before specific match for every team. There are 4 scores which we describe below: \n",
    "- score: the number of goals scored by the team during the match (not counting penalties); \n",
    "- scoreET: the number of goals scored by the team during the match, including the extra time (not counting penalties); \n",
    "- scoreHT: the number of goals scored by the team during the first half of the match; \n",
    "- scoreP: the total number of goals scored by the team after the penalties;\n",
    "\n",
    "For computing these values we first add a timestamp field to matches documents to make it easy to find the matches before an specific match"
   ]
  },
  {
   "cell_type": "code",
   "execution_count": 23,
   "metadata": {},
   "outputs": [],
   "source": [
    "for doc in db.matches.find({}, {'wyId': 1, 'date': 1}):\n",
    "    match_id = doc['wyId']\n",
    "    date = doc['date']\n",
    "    date = int(mktime(parser.parse(date).timetuple()))\n",
    "    db.matches.update_one({'wyId': match_id}, {'$set': {'timestamp': date}})"
   ]
  },
  {
   "cell_type": "markdown",
   "metadata": {},
   "source": [
    "Now we find and add the mean of scores to the result collection"
   ]
  },
  {
   "cell_type": "code",
   "execution_count": 24,
   "metadata": {},
   "outputs": [],
   "source": [
    "for match, team in set_matches2teams:\n",
    "    game_time = db.matches.find_one({'wyId': match}, {'_id': 0, 'timestamp': 1})['timestamp']\n",
    "    previous_scores_json = list(db.matches.find({\n",
    "        'teamsData.{}'.format(str(team)): {'$exists': True},\n",
    "        'timestamp': {'$lt': game_time}\n",
    "    },\n",
    "    {'_id': 0, 'teamsData.{}.score'.format(str(team)): 1, \n",
    "     'teamsData.{}.scoreET'.format(str(team)): 1,\n",
    "     'teamsData.{}.scoreHT'.format(str(team)): 1,\n",
    "     'teamsData.{}.scoreP'.format(str(team)): 1}))\n",
    "    \n",
    "    scores = [x['teamsData'][str(team)]['score'] for x in previous_scores_json]\n",
    "    scoresET = [x['teamsData'][str(team)]['scoreET'] for x in previous_scores_json]\n",
    "    scoresHT = [x['teamsData'][str(team)]['scoreHT'] for x in previous_scores_json]\n",
    "    scoresP = [x['teamsData'][str(team)]['scoreP'] for x in previous_scores_json]\n",
    "    \n",
    "    if scores:\n",
    "        mean_score = sum(scores) / len(scores)\n",
    "    else:\n",
    "        mean_score = 0\n",
    "    if scoresET:\n",
    "        mean_scoreET = sum(scoresET) / len(scoresET)\n",
    "    else:\n",
    "        mean_scoreET = 0\n",
    "    if scoresHT:\n",
    "        mean_scoreHT = sum(scoresHT) / len(scoresHT)\n",
    "    else:\n",
    "        mean_scoreHT = 0\n",
    "    if scoresP:\n",
    "        mean_scoreP = sum(scoresP) / len(scoresP)\n",
    "    else:\n",
    "        mean_scoreP = 0\n",
    "    \n",
    "    db.results.update_one({'matchId': match, 'teamId': team}, {'$set': {'meanPrevScore': mean_score}})\n",
    "    db.results.update_one({'matchId': match, 'teamId': team}, {'$set': {'meanPrevScoreET': mean_scoreET}})\n",
    "    db.results.update_one({'matchId': match, 'teamId': team}, {'$set': {'meanPrevScoreHT': mean_scoreHT}})\n",
    "    db.results.update_one({'matchId': match, 'teamId': team}, {'$set': {'meanPrevScoreP': mean_scoreP}})\n",
    "    "
   ]
  },
  {
   "cell_type": "markdown",
   "metadata": {},
   "source": [
    "### 5. Mean of players' potential to each team in a specific match\n",
    "First we read the data from the other new dataset"
   ]
  },
  {
   "cell_type": "code",
   "execution_count": 25,
   "metadata": {},
   "outputs": [
    {
     "data": {
      "text/html": [
       "<div>\n",
       "<style scoped>\n",
       "    .dataframe tbody tr th:only-of-type {\n",
       "        vertical-align: middle;\n",
       "    }\n",
       "\n",
       "    .dataframe tbody tr th {\n",
       "        vertical-align: top;\n",
       "    }\n",
       "\n",
       "    .dataframe thead th {\n",
       "        text-align: right;\n",
       "    }\n",
       "</style>\n",
       "<table border=\"1\" class=\"dataframe\">\n",
       "  <thead>\n",
       "    <tr style=\"text-align: right;\">\n",
       "      <th></th>\n",
       "      <th>Unnamed: 0</th>\n",
       "      <th>ID</th>\n",
       "      <th>Name</th>\n",
       "      <th>Age</th>\n",
       "      <th>Photo</th>\n",
       "      <th>Nationality</th>\n",
       "      <th>Flag</th>\n",
       "      <th>Overall</th>\n",
       "      <th>Potential</th>\n",
       "      <th>Club</th>\n",
       "      <th>...</th>\n",
       "      <th>Composure</th>\n",
       "      <th>Marking</th>\n",
       "      <th>StandingTackle</th>\n",
       "      <th>SlidingTackle</th>\n",
       "      <th>GKDiving</th>\n",
       "      <th>GKHandling</th>\n",
       "      <th>GKKicking</th>\n",
       "      <th>GKPositioning</th>\n",
       "      <th>GKReflexes</th>\n",
       "      <th>Release Clause</th>\n",
       "    </tr>\n",
       "  </thead>\n",
       "  <tbody>\n",
       "    <tr>\n",
       "      <th>0</th>\n",
       "      <td>0</td>\n",
       "      <td>158023</td>\n",
       "      <td>L. Messi</td>\n",
       "      <td>31</td>\n",
       "      <td>https://cdn.sofifa.org/players/4/19/158023.png</td>\n",
       "      <td>Argentina</td>\n",
       "      <td>https://cdn.sofifa.org/flags/52.png</td>\n",
       "      <td>94</td>\n",
       "      <td>94</td>\n",
       "      <td>FC Barcelona</td>\n",
       "      <td>...</td>\n",
       "      <td>96.0</td>\n",
       "      <td>33.0</td>\n",
       "      <td>28.0</td>\n",
       "      <td>26.0</td>\n",
       "      <td>6.0</td>\n",
       "      <td>11.0</td>\n",
       "      <td>15.0</td>\n",
       "      <td>14.0</td>\n",
       "      <td>8.0</td>\n",
       "      <td>€226.5M</td>\n",
       "    </tr>\n",
       "    <tr>\n",
       "      <th>1</th>\n",
       "      <td>1</td>\n",
       "      <td>20801</td>\n",
       "      <td>Cristiano Ronaldo</td>\n",
       "      <td>33</td>\n",
       "      <td>https://cdn.sofifa.org/players/4/19/20801.png</td>\n",
       "      <td>Portugal</td>\n",
       "      <td>https://cdn.sofifa.org/flags/38.png</td>\n",
       "      <td>94</td>\n",
       "      <td>94</td>\n",
       "      <td>Juventus</td>\n",
       "      <td>...</td>\n",
       "      <td>95.0</td>\n",
       "      <td>28.0</td>\n",
       "      <td>31.0</td>\n",
       "      <td>23.0</td>\n",
       "      <td>7.0</td>\n",
       "      <td>11.0</td>\n",
       "      <td>15.0</td>\n",
       "      <td>14.0</td>\n",
       "      <td>11.0</td>\n",
       "      <td>€127.1M</td>\n",
       "    </tr>\n",
       "    <tr>\n",
       "      <th>2</th>\n",
       "      <td>2</td>\n",
       "      <td>190871</td>\n",
       "      <td>Neymar Jr</td>\n",
       "      <td>26</td>\n",
       "      <td>https://cdn.sofifa.org/players/4/19/190871.png</td>\n",
       "      <td>Brazil</td>\n",
       "      <td>https://cdn.sofifa.org/flags/54.png</td>\n",
       "      <td>92</td>\n",
       "      <td>93</td>\n",
       "      <td>Paris Saint-Germain</td>\n",
       "      <td>...</td>\n",
       "      <td>94.0</td>\n",
       "      <td>27.0</td>\n",
       "      <td>24.0</td>\n",
       "      <td>33.0</td>\n",
       "      <td>9.0</td>\n",
       "      <td>9.0</td>\n",
       "      <td>15.0</td>\n",
       "      <td>15.0</td>\n",
       "      <td>11.0</td>\n",
       "      <td>€228.1M</td>\n",
       "    </tr>\n",
       "    <tr>\n",
       "      <th>3</th>\n",
       "      <td>3</td>\n",
       "      <td>193080</td>\n",
       "      <td>De Gea</td>\n",
       "      <td>27</td>\n",
       "      <td>https://cdn.sofifa.org/players/4/19/193080.png</td>\n",
       "      <td>Spain</td>\n",
       "      <td>https://cdn.sofifa.org/flags/45.png</td>\n",
       "      <td>91</td>\n",
       "      <td>93</td>\n",
       "      <td>Manchester United</td>\n",
       "      <td>...</td>\n",
       "      <td>68.0</td>\n",
       "      <td>15.0</td>\n",
       "      <td>21.0</td>\n",
       "      <td>13.0</td>\n",
       "      <td>90.0</td>\n",
       "      <td>85.0</td>\n",
       "      <td>87.0</td>\n",
       "      <td>88.0</td>\n",
       "      <td>94.0</td>\n",
       "      <td>€138.6M</td>\n",
       "    </tr>\n",
       "    <tr>\n",
       "      <th>4</th>\n",
       "      <td>4</td>\n",
       "      <td>192985</td>\n",
       "      <td>K. De Bruyne</td>\n",
       "      <td>27</td>\n",
       "      <td>https://cdn.sofifa.org/players/4/19/192985.png</td>\n",
       "      <td>Belgium</td>\n",
       "      <td>https://cdn.sofifa.org/flags/7.png</td>\n",
       "      <td>91</td>\n",
       "      <td>92</td>\n",
       "      <td>Manchester City</td>\n",
       "      <td>...</td>\n",
       "      <td>88.0</td>\n",
       "      <td>68.0</td>\n",
       "      <td>58.0</td>\n",
       "      <td>51.0</td>\n",
       "      <td>15.0</td>\n",
       "      <td>13.0</td>\n",
       "      <td>5.0</td>\n",
       "      <td>10.0</td>\n",
       "      <td>13.0</td>\n",
       "      <td>€196.4M</td>\n",
       "    </tr>\n",
       "  </tbody>\n",
       "</table>\n",
       "<p>5 rows × 89 columns</p>\n",
       "</div>"
      ],
      "text/plain": [
       "   Unnamed: 0      ID               Name  Age  \\\n",
       "0           0  158023           L. Messi   31   \n",
       "1           1   20801  Cristiano Ronaldo   33   \n",
       "2           2  190871          Neymar Jr   26   \n",
       "3           3  193080             De Gea   27   \n",
       "4           4  192985       K. De Bruyne   27   \n",
       "\n",
       "                                            Photo Nationality  \\\n",
       "0  https://cdn.sofifa.org/players/4/19/158023.png   Argentina   \n",
       "1   https://cdn.sofifa.org/players/4/19/20801.png    Portugal   \n",
       "2  https://cdn.sofifa.org/players/4/19/190871.png      Brazil   \n",
       "3  https://cdn.sofifa.org/players/4/19/193080.png       Spain   \n",
       "4  https://cdn.sofifa.org/players/4/19/192985.png     Belgium   \n",
       "\n",
       "                                  Flag  Overall  Potential  \\\n",
       "0  https://cdn.sofifa.org/flags/52.png       94         94   \n",
       "1  https://cdn.sofifa.org/flags/38.png       94         94   \n",
       "2  https://cdn.sofifa.org/flags/54.png       92         93   \n",
       "3  https://cdn.sofifa.org/flags/45.png       91         93   \n",
       "4   https://cdn.sofifa.org/flags/7.png       91         92   \n",
       "\n",
       "                  Club  ... Composure Marking StandingTackle  SlidingTackle  \\\n",
       "0         FC Barcelona  ...      96.0    33.0           28.0           26.0   \n",
       "1             Juventus  ...      95.0    28.0           31.0           23.0   \n",
       "2  Paris Saint-Germain  ...      94.0    27.0           24.0           33.0   \n",
       "3    Manchester United  ...      68.0    15.0           21.0           13.0   \n",
       "4      Manchester City  ...      88.0    68.0           58.0           51.0   \n",
       "\n",
       "  GKDiving  GKHandling  GKKicking  GKPositioning GKReflexes Release Clause  \n",
       "0      6.0        11.0       15.0           14.0        8.0        €226.5M  \n",
       "1      7.0        11.0       15.0           14.0       11.0        €127.1M  \n",
       "2      9.0         9.0       15.0           15.0       11.0        €228.1M  \n",
       "3     90.0        85.0       87.0           88.0       94.0        €138.6M  \n",
       "4     15.0        13.0        5.0           10.0       13.0        €196.4M  \n",
       "\n",
       "[5 rows x 89 columns]"
      ]
     },
     "execution_count": 25,
     "metadata": {},
     "output_type": "execute_result"
    }
   ],
   "source": [
    "data_players = pd.read_csv(\"../data/fifa.csv\")\n",
    "data_players.head()"
   ]
  },
  {
   "cell_type": "markdown",
   "metadata": {},
   "source": [
    "Now add the potential and overall of the new dataset to the players collection in our dataset"
   ]
  },
  {
   "cell_type": "code",
   "execution_count": 26,
   "metadata": {},
   "outputs": [
    {
     "name": "stderr",
     "output_type": "stream",
     "text": [
      "100%|██████████| 18207/18207 [06:39<00:00, 45.62it/s]\n"
     ]
    }
   ],
   "source": [
    "for i in tqdm(range(data_players.shape[0])):\n",
    "    db.players.update_one({'shortName': data_players['Name'].iloc[i]}, {'$set': {'overall': int(data_players['Overall'].iloc[i])}})\n",
    "    db.players.update_one({'shortName': data_players['Name'].iloc[i]}, {'$set': {'potential': int(data_players['Potential'].iloc[i])}})"
   ]
  },
  {
   "cell_type": "markdown",
   "metadata": {},
   "source": [
    "Now we find the mean of players quality of each team for every game"
   ]
  },
  {
   "cell_type": "code",
   "execution_count": 27,
   "metadata": {},
   "outputs": [
    {
     "name": "stderr",
     "output_type": "stream",
     "text": [
      "100%|██████████| 102/102 [00:55<00:00,  1.85it/s]\n"
     ]
    }
   ],
   "source": [
    "for match, team in tqdm(set_matches2teams):\n",
    "    all_overalls = []\n",
    "    all_potentials = []\n",
    "    players = list(db.matches.find({\n",
    "        'teamsData.{}'.format(str(team)): {'$exists': True}\n",
    "    },{'_id': 0, 'teamsData.{}.formation.bench.playerId'.format(str(team)): 1, \n",
    "       'teamsData.{}.formation.lineup.playerId'.format(str(team)): 1 }))\n",
    "    playerIdBench = [y['playerId'] for x in players for y in x['teamsData'][str(team)]['formation']['bench']]\n",
    "    playerIdLineup = [y['playerId'] for x in players for y in x['teamsData'][str(team)]['formation']['lineup']]\n",
    "    playerId = list(set(playerIdBench + playerIdLineup))\n",
    "    for player in playerId:\n",
    "        all_overalls.append(list(db.players.find(\n",
    "            {'wyId' : player},\n",
    "            {'_id': 0, 'overall': 1}))[0].get('overall', 0))\n",
    "        all_potentials.append(list(db.players.find(\n",
    "            {'wyId' : player},\n",
    "            {'_id': 0, 'potential': 1}))[0].get('potential', 0))\n",
    "    db.results.update_one({'matchId': match, 'teamId': team}, {'$set': {'meanPlayerOverall': sum(all_overalls)/len(all_overalls)}})\n",
    "    db.results.update_one({'matchId': match, 'teamId': team}, {'$set': {'meanPlayerPotential': sum(all_potentials)/len(all_potentials)}})"
   ]
  },
  {
   "cell_type": "markdown",
   "metadata": {},
   "source": [
    "### 6. Number of yellow cards, red cards and second yellow cards of the first half"
   ]
  },
  {
   "cell_type": "code",
   "execution_count": 28,
   "metadata": {},
   "outputs": [
    {
     "name": "stderr",
     "output_type": "stream",
     "text": [
      "100%|██████████| 102/102 [00:23<00:00,  4.26it/s]\n"
     ]
    }
   ],
   "source": [
    "for match_id, team_id in tqdm(list(set_matches2teams)):\n",
    "    num_red_card = count_some_event('Foul', match_id, team_id, extra_cond={'matchPeriod': '1H',\n",
    "                                                                      'tags.id': 1701})\n",
    "    num_yellow_card = count_some_event('Foul', match_id, team_id, extra_cond={'matchPeriod': '1H',\n",
    "                                                                      'tags.id': 1702})\n",
    "    num_second_yellow_card = count_some_event('Foul', match_id, team_id, extra_cond={'matchPeriod': '1H',\n",
    "                                                                      'tags.id': 1703})\n",
    "    db.results.update_one({'matchId': match_id, 'teamId': team_id}, {\n",
    "        '$set': {'numSecondYellowCard': num_second_yellow_card}})\n",
    "    db.results.update_one({'matchId': match_id, 'teamId': team_id}, {\n",
    "        '$set': {'numYellowCard': num_yellow_card}})\n",
    "    db.results.update_one({'matchId': match_id, 'teamId': team_id}, {\n",
    "        '$set': {'numRedCard': num_red_card}})"
   ]
  },
  {
   "cell_type": "markdown",
   "metadata": {},
   "source": [
    "### 7. Number of goals in the first half"
   ]
  },
  {
   "cell_type": "code",
   "execution_count": 29,
   "metadata": {},
   "outputs": [],
   "source": [
    "for match, team in set_matches2teams:\n",
    "    goals_on_the_first_half_json = list(db.matches.find({'wyId': match,\n",
    "        'teamsData.{}'.format(str(team)): {'$exists': True}\n",
    "    },\n",
    "    {'_id': 0, 'teamsData.{}.scoreHT'.format(str(team)): 1}))\n",
    "    number_of_goals_in_the_first_half = [x['teamsData'][str(team)]['scoreHT'] for x in goals_on_the_first_half_json]\n",
    "    #print(number_of_goals_in_the_first_half[0])\n",
    "    db.results.update_one({'matchId': match, 'teamId': team}, {'$set': {'numGoalsFristHalf': number_of_goals_in_the_first_half[0]}})\n",
    "    "
   ]
  },
  {
   "cell_type": "markdown",
   "metadata": {},
   "source": [
    "### 8. Ball possesion"
   ]
  },
  {
   "cell_type": "code",
   "execution_count": 30,
   "metadata": {},
   "outputs": [],
   "source": [
    "interestingEvNames = ['Pass', 'Duel', 'Free Kick',  'Others on the ball', 'Shot']\n",
    "def add_percBallInfo (res_col, ev_col):\n",
    "    mt_ids_in_res = [e['matchId'] for e in res_col.find({}, {'_id':0, 'matchId':1})]\n",
    "    for mId in tqdm(mt_ids_in_res):\n",
    "        tm_ids_in_match = [e['teamId'] for e in res_col.find({'matchId': mId}, {'_id':0, 'teamId':1})]\n",
    "        all_mt_ev = [e for e in ev_col.find( { 'matchId': int(mId) } ) ]\n",
    "        \n",
    "        for tId in tm_ids_in_match:\n",
    "            all_tm_ev = [e for e in all_mt_ev if e['teamId'] == int(tId)]\n",
    "            interesting_ev_cnt = len([e for e in all_tm_ev if e['eventName'] in interestingEvNames])\n",
    "            oppHalfField_ev_cnt = len([e for e in all_tm_ev if e['positions'][0]['x']>50])\n",
    "\n",
    "            percBallPoss = interesting_ev_cnt/len(all_mt_ev) * 100\n",
    "            percOppHalfField = oppHalfField_ev_cnt/len(all_mt_ev) * 100\n",
    "            \n",
    "            res_col.update_one({'matchId': mId, 'teamId': tId}, \n",
    "                               { '$set': \n",
    "                                {'percBallPoss': percBallPoss, 'percOppHalfField': percOppHalfField }\n",
    "                               })"
   ]
  },
  {
   "cell_type": "markdown",
   "metadata": {},
   "source": [
    "### 9. Class Variables\n",
    "We have two class variables: \n",
    "- weather the team has won the game or not\n",
    "- Will the team goal in the second half or not\n",
    "\n",
    "Let's start with the first one:"
   ]
  },
  {
   "cell_type": "code",
   "execution_count": 31,
   "metadata": {},
   "outputs": [],
   "source": [
    "for match_id, team_id in set_matches2teams:\n",
    "    results = db.matches.find_one({\n",
    "        'wyId': match_id,\n",
    "    }, {\n",
    "        'winner': 1,\n",
    "        'teamsData.{}.score'.format(str(team_id)): 1, \n",
    "        'teamsData.{}.scoreET'.format(str(team_id)): 1,\n",
    "        'teamsData.{}.scoreP'.format(str(team_id)): 1,\n",
    "        'teamsData.{}.scoreHT'.format(str(team_id)): 1,\n",
    "        '_id': 0\n",
    "    })\n",
    "    final_score = sum(results['teamsData'][str(team_id)].values())\n",
    "    second_half_score = results['teamsData'][str(team_id)]['score']\n",
    "    #Since we added twice\n",
    "    final_score -= results['teamsData'][str(team_id)]['scoreHT'] \n",
    "    #Since we just want the number of goals in the second half of the game\n",
    "    second_half_score -= results['teamsData'][str(team_id)]['scoreHT']\n",
    "    is_winner = int(results['winner'] == team_id)\n",
    "    \n",
    "    db.results.update_one({'matchId': match_id, 'teamId': team_id}, {\n",
    "        '$set': {\n",
    "            'finalScore': final_score,\n",
    "            'numSecondHalfGoals': second_half_score,\n",
    "            'isWinner': is_winner\n",
    "        }\n",
    "    })"
   ]
  },
  {
   "cell_type": "markdown",
   "metadata": {},
   "source": [
    "Now the second one:"
   ]
  },
  {
   "cell_type": "code",
   "execution_count": 32,
   "metadata": {},
   "outputs": [],
   "source": [
    "for match, team in set_matches2teams:\n",
    "    number_of_goals_in_the_second_half_json = list(db.results.find({'matchId': match,\n",
    "        'teamId': team\n",
    "    },{'_id': 0, 'numSecondHalfGoals': 1}))\n",
    "    number_of_goals_in_the_second_half = [x['numSecondHalfGoals'] for x in number_of_goals_in_the_second_half_json]\n",
    "    if (number_of_goals_in_the_second_half[0] > 0):\n",
    "        target = 1\n",
    "    else:\n",
    "        target = 0\n",
    "    db.results.update_one({'matchId': match, 'teamId': team}, {'$set': {'didScoreInSecondHalf': target}})"
   ]
  },
  {
   "cell_type": "markdown",
   "metadata": {},
   "source": [
    "So this is the final result collection:"
   ]
  },
  {
   "cell_type": "code",
   "execution_count": 33,
   "metadata": {},
   "outputs": [
    {
     "data": {
      "text/plain": [
       "{'_id': ObjectId('5da399af04f673bbf273049a'),\n",
       " 'didScoreInSecondHalf': 1,\n",
       " 'finalScore': 3,\n",
       " 'isHome': True,\n",
       " 'isWinner': 1,\n",
       " 'matchId': 1694430,\n",
       " 'meanPlayerOverall': 58.21739130434783,\n",
       " 'meanPlayerPotential': 59.47826086956522,\n",
       " 'meanPrevScore': 1.0,\n",
       " 'meanPrevScoreET': 0.0,\n",
       " 'meanPrevScoreHT': 0.6666666666666666,\n",
       " 'meanPrevScoreP': 0.0,\n",
       " 'numAccuratePass': 259,\n",
       " 'numDuel': 108,\n",
       " 'numFoul': 7,\n",
       " 'numFreeKick': 16,\n",
       " 'numGoalkeeperLeavingLine': 0,\n",
       " 'numGoalsFristHalf': 2,\n",
       " 'numInterruption': 0,\n",
       " 'numOffside': 0,\n",
       " 'numOthersOnTheBall': 14,\n",
       " 'numPass': 294,\n",
       " 'numRedCard': 0,\n",
       " 'numSaveAttempt': 1,\n",
       " 'numSecondHalfGoals': 1,\n",
       " 'numSecondYellowCard': 0,\n",
       " 'numShot': 13,\n",
       " 'numYellowCard': 0,\n",
       " 'rateAccuratePass': 0.8809523809523809,\n",
       " 'teamId': 3148}"
      ]
     },
     "execution_count": 33,
     "metadata": {},
     "output_type": "execute_result"
    }
   ],
   "source": [
    "db.results.find_one()"
   ]
  },
  {
   "cell_type": "markdown",
   "metadata": {},
   "source": [
    "Now it is time to visualize the dataset and understand which featurs are important"
   ]
  },
  {
   "cell_type": "code",
   "execution_count": null,
   "metadata": {},
   "outputs": [],
   "source": []
  }
 ],
 "metadata": {
  "kernelspec": {
   "display_name": "Python 3",
   "language": "python",
   "name": "python3"
  },
  "language_info": {
   "codemirror_mode": {
    "name": "ipython",
    "version": 3
   },
   "file_extension": ".py",
   "mimetype": "text/x-python",
   "name": "python",
   "nbconvert_exporter": "python",
   "pygments_lexer": "ipython3",
   "version": "3.5.2"
  }
 },
 "nbformat": 4,
 "nbformat_minor": 2
}
