{
 "cells": [
  {
   "cell_type": "code",
   "execution_count": 35,
   "metadata": {},
   "outputs": [],
   "source": [
    "import pymongo\n",
    "\n",
    "from tqdm import tqdm"
   ]
  },
  {
   "cell_type": "code",
   "execution_count": 36,
   "metadata": {},
   "outputs": [],
   "source": [
    "client = pymongo.MongoClient()\n",
    "db = client.soccerdb"
   ]
  },
  {
   "cell_type": "code",
   "execution_count": 37,
   "metadata": {},
   "outputs": [
    {
     "data": {
      "text/plain": [
       "{'_id': ObjectId('5da3961a04f673bbf271d22b'),\n",
       " 'eventId': 8,\n",
       " 'eventName': 'Pass',\n",
       " 'eventSec': 1.255989999999997,\n",
       " 'id': 88178642,\n",
       " 'matchId': 1694390,\n",
       " 'matchPeriod': '1H',\n",
       " 'playerId': 26010,\n",
       " 'positions': [{'x': 50, 'y': 48}, {'x': 47, 'y': 50}],\n",
       " 'subEventId': 85,\n",
       " 'subEventName': 'Simple pass',\n",
       " 'tags': [{'id': 1801}],\n",
       " 'teamId': 4418}"
      ]
     },
     "execution_count": 37,
     "metadata": {},
     "output_type": "execute_result"
    }
   ],
   "source": [
    "db.events.find_one()"
   ]
  },
  {
   "cell_type": "code",
   "execution_count": 38,
   "metadata": {},
   "outputs": [],
   "source": [
    "def count_some_event(event, matchId=None, teamId=None, playerId=None, extra_cond={}):\n",
    "    cond = {'eventName': event}\n",
    "    cond.update(extra_cond)\n",
    "    \n",
    "    if matchId is not None:\n",
    "        cond.update({'matchId': matchId})\n",
    "    if teamId is not None:\n",
    "        cond.update({'teamId': teamId})\n",
    "    if playerId is not None:\n",
    "        cond.update('playerId')\n",
    "        \n",
    "        \n",
    "    return db.events.count_documents(cond)"
   ]
  },
  {
   "cell_type": "markdown",
   "metadata": {},
   "source": [
    "### Get a set of all (matchId, teamId) tuples\n",
    "We need the set of all matches and the corresponding teams to work with."
   ]
  },
  {
   "cell_type": "code",
   "execution_count": 39,
   "metadata": {},
   "outputs": [],
   "source": [
    "set_matches2teams = set(map(lambda dic: (dic['matchId'], dic['teamId']), db.events.find(\n",
    "    {'eventName': 'Pass', 'matchPeriod': '1H'}, \n",
    "    {'_id': 0, 'matchId': 1, 'teamId': 1})))"
   ]
  },
  {
   "cell_type": "markdown",
   "metadata": {},
   "source": [
    "### Get the list of all events\n",
    "Find 3 different matchIds to find the set of events inside them. This helps decreasing the probability of not seeing an event due to it's absence in a random game."
   ]
  },
  {
   "cell_type": "code",
   "execution_count": 40,
   "metadata": {},
   "outputs": [],
   "source": [
    "some_matchids = [x['matchId'] for x in db.events.find({}, {'_id': 0, 'matchId': 1}, limit=3)]\n",
    "set_event_names = set([x['eventName'] for x in db.events.find({\n",
    "    'matchId': {'$in': some_matchids}}, {'_id': 0, 'eventName': 1})])"
   ]
  },
  {
   "cell_type": "code",
   "execution_count": 41,
   "metadata": {},
   "outputs": [],
   "source": [
    "for matchId, teamId in set_matches2teams:\n",
    "    base = {\n",
    "        'matchId': matchId,\n",
    "        'teamId': teamId\n",
    "    }\n",
    "    for event in set_event_names:\n",
    "        db.results.update_one(base, {\n",
    "            '$set': {\n",
    "                'num{}'.format(\n",
    "                    event.title().replace(' ', '')\n",
    "                ): count_some_event(event, matchId, teamId, extra_cond={'matchPeriod': '1H'})\n",
    "            }\n",
    "        }, upsert=True)"
   ]
  },
  {
   "cell_type": "markdown",
   "metadata": {},
   "source": [
    "### Are they playing at their home?\n",
    "If true, the team is playing at their own home. This might be correlated to the winning because of the weather condition, time zone, being exhausted or emotional state of the players."
   ]
  },
  {
   "cell_type": "code",
   "execution_count": 8,
   "metadata": {},
   "outputs": [
    {
     "name": "stderr",
     "output_type": "stream",
     "text": [
      "100%|██████████| 102/102 [00:00<00:00, 507.56it/s]\n"
     ]
    }
   ],
   "source": [
    "for matchId, teamId in tqdm(set_matches2teams):\n",
    "    isHome = db.matches.find_one({'wyId': matchId},\n",
    "                                 {'_id': 0, 'teamsData.{}.side'.format(str(teamId)): 1}\n",
    "                                )['teamsData'][str(teamId)]['side']\n",
    "    isHome = (isHome == 'home')\n",
    "    db.results.update_one({'matchId': matchId, 'teamId': teamId}, {'$set': {'isHome': isHome}})"
   ]
  },
  {
   "cell_type": "markdown",
   "metadata": {},
   "source": [
    "### Set of All Event Tags\n",
    "Each event is described using a set of tags which could be quite fruitful for the purpose of prediction. However, we have to first recognize these tags.\n",
    "\n",
    "Unfortunately, for now, we don't know what these tags represent. There should be a mapping, which apparently, there isn't."
   ]
  },
  {
   "cell_type": "code",
   "execution_count": 42,
   "metadata": {},
   "outputs": [
    {
     "name": "stdout",
     "output_type": "stream",
     "text": [
      "{901, 1801, 1802, 401, 402, 403, 1301, 1302, 801, 1701, 1702, 1703, 301, 302, 1201, 1202, 1203, 1204, 2101, 1205, 1207, 1208, 1206, 1210, 1209, 1212, 701, 702, 1215, 1216, 1601, 703, 1214, 1220, 1217, 1213, 1219, 1222, 201, 1221, 1223, 1101, 1211, 1102, 2001, 601, 602, 101, 102, 1001, 1901, 1218, 501, 502, 503, 504, 1401}\n"
     ]
    }
   ],
   "source": [
    "all_tags = []\n",
    "for doc in db.events.find({}, {'tags': 1, '_id': 0}):\n",
    "    tags = [x['id'] for x in doc['tags']]\n",
    "    all_tags.extend(tags)\n",
    "all_tags = set(all_tags)\n",
    "print(all_tags)"
   ]
  },
  {
   "cell_type": "markdown",
   "metadata": {},
   "source": [
    "### Percentage of Accurate Passes\n",
    "Being accurate when passing can be an indication of how good a team is performing during the game. This can later on be examined in moving windows."
   ]
  },
  {
   "cell_type": "code",
   "execution_count": 43,
   "metadata": {},
   "outputs": [
    {
     "name": "stderr",
     "output_type": "stream",
     "text": [
      "\n",
      "  0%|          | 0/102 [00:00<?, ?it/s]\u001b[A\n",
      "  1%|          | 1/102 [00:00<00:16,  5.98it/s]\u001b[A\n",
      "  2%|▏         | 2/102 [00:00<00:16,  5.94it/s]\u001b[A\n",
      "  3%|▎         | 3/102 [00:00<00:16,  5.96it/s]\u001b[A\n",
      "  4%|▍         | 4/102 [00:00<00:16,  5.89it/s]\u001b[A\n",
      "  5%|▍         | 5/102 [00:00<00:16,  5.95it/s]\u001b[A\n",
      "  6%|▌         | 6/102 [00:01<00:16,  5.98it/s]\u001b[A\n",
      "  7%|▋         | 7/102 [00:01<00:15,  5.96it/s]\u001b[A\n",
      "  8%|▊         | 8/102 [00:01<00:15,  5.96it/s]\u001b[A\n",
      "  9%|▉         | 9/102 [00:01<00:15,  5.97it/s]\u001b[A\n",
      " 10%|▉         | 10/102 [00:01<00:15,  5.98it/s]\u001b[A\n",
      " 11%|█         | 11/102 [00:01<00:15,  5.90it/s]\u001b[A\n",
      " 12%|█▏        | 12/102 [00:02<00:15,  5.99it/s]\u001b[A\n",
      " 13%|█▎        | 13/102 [00:02<00:14,  5.97it/s]\u001b[A\n",
      " 14%|█▎        | 14/102 [00:02<00:14,  6.00it/s]\u001b[A\n",
      " 15%|█▍        | 15/102 [00:02<00:14,  6.03it/s]\u001b[A\n",
      " 16%|█▌        | 16/102 [00:02<00:14,  6.06it/s]\u001b[A\n",
      " 17%|█▋        | 17/102 [00:02<00:13,  6.10it/s]\u001b[A\n",
      " 18%|█▊        | 18/102 [00:03<00:13,  6.09it/s]\u001b[A\n",
      " 19%|█▊        | 19/102 [00:03<00:13,  6.10it/s]\u001b[A\n",
      " 20%|█▉        | 20/102 [00:03<00:13,  6.01it/s]\u001b[A\n",
      " 21%|██        | 21/102 [00:03<00:13,  5.99it/s]\u001b[A\n",
      " 22%|██▏       | 22/102 [00:03<00:13,  6.04it/s]\u001b[A\n",
      " 23%|██▎       | 23/102 [00:03<00:13,  6.08it/s]\u001b[A\n",
      " 24%|██▎       | 24/102 [00:03<00:12,  6.05it/s]\u001b[A\n",
      " 25%|██▍       | 25/102 [00:04<00:12,  6.03it/s]\u001b[A\n",
      " 25%|██▌       | 26/102 [00:04<00:12,  6.09it/s]\u001b[A\n",
      " 26%|██▋       | 27/102 [00:04<00:12,  6.10it/s]\u001b[A\n",
      " 27%|██▋       | 28/102 [00:04<00:12,  5.96it/s]\u001b[A\n",
      " 28%|██▊       | 29/102 [00:04<00:12,  5.89it/s]\u001b[A\n",
      " 29%|██▉       | 30/102 [00:05<00:12,  5.69it/s]\u001b[A\n",
      " 30%|███       | 31/102 [00:05<00:12,  5.56it/s]\u001b[A\n",
      " 31%|███▏      | 32/102 [00:05<00:12,  5.65it/s]\u001b[A\n",
      " 32%|███▏      | 33/102 [00:05<00:12,  5.59it/s]\u001b[A\n",
      " 33%|███▎      | 34/102 [00:05<00:12,  5.66it/s]\u001b[A\n",
      " 34%|███▍      | 35/102 [00:05<00:11,  5.77it/s]\u001b[A\n",
      " 35%|███▌      | 36/102 [00:06<00:11,  5.85it/s]\u001b[A\n",
      " 36%|███▋      | 37/102 [00:06<00:10,  5.93it/s]\u001b[A\n",
      " 37%|███▋      | 38/102 [00:06<00:10,  6.01it/s]\u001b[A\n",
      " 38%|███▊      | 39/102 [00:06<00:10,  6.06it/s]\u001b[A\n",
      " 39%|███▉      | 40/102 [00:06<00:10,  6.01it/s]\u001b[A\n",
      " 40%|████      | 41/102 [00:06<00:10,  6.06it/s]\u001b[A\n",
      " 41%|████      | 42/102 [00:07<00:09,  6.07it/s]\u001b[A\n",
      " 42%|████▏     | 43/102 [00:07<00:09,  6.07it/s]\u001b[A\n",
      " 43%|████▎     | 44/102 [00:07<00:09,  5.89it/s]\u001b[A\n",
      " 44%|████▍     | 45/102 [00:07<00:09,  5.96it/s]\u001b[A\n",
      " 45%|████▌     | 46/102 [00:07<00:09,  6.00it/s]\u001b[A\n",
      " 46%|████▌     | 47/102 [00:07<00:09,  6.08it/s]\u001b[A\n",
      " 47%|████▋     | 48/102 [00:08<00:08,  6.05it/s]\u001b[A\n",
      " 48%|████▊     | 49/102 [00:08<00:08,  6.00it/s]\u001b[A\n",
      " 49%|████▉     | 50/102 [00:08<00:08,  6.04it/s]\u001b[A\n",
      " 50%|█████     | 51/102 [00:08<00:08,  6.04it/s]\u001b[A\n",
      " 51%|█████     | 52/102 [00:08<00:08,  6.03it/s]\u001b[A\n",
      " 52%|█████▏    | 53/102 [00:08<00:08,  6.05it/s]\u001b[A\n",
      " 53%|█████▎    | 54/102 [00:09<00:08,  5.98it/s]\u001b[A\n",
      " 54%|█████▍    | 55/102 [00:09<00:07,  5.93it/s]\u001b[A\n",
      " 55%|█████▍    | 56/102 [00:09<00:07,  5.91it/s]\u001b[A\n",
      " 56%|█████▌    | 57/102 [00:09<00:07,  5.96it/s]\u001b[A\n",
      " 57%|█████▋    | 58/102 [00:09<00:07,  5.86it/s]\u001b[A\n",
      " 58%|█████▊    | 59/102 [00:09<00:07,  5.91it/s]\u001b[A\n",
      " 59%|█████▉    | 60/102 [00:10<00:07,  5.98it/s]\u001b[A\n",
      " 60%|█████▉    | 61/102 [00:10<00:06,  6.08it/s]\u001b[A\n",
      " 61%|██████    | 62/102 [00:10<00:06,  6.08it/s]\u001b[A\n",
      " 62%|██████▏   | 63/102 [00:10<00:06,  6.09it/s]\u001b[A\n",
      " 63%|██████▎   | 64/102 [00:10<00:06,  6.13it/s]\u001b[A\n",
      " 64%|██████▎   | 65/102 [00:10<00:06,  6.09it/s]\u001b[A\n",
      " 65%|██████▍   | 66/102 [00:11<00:06,  5.99it/s]\u001b[A\n",
      " 66%|██████▌   | 67/102 [00:11<00:05,  5.86it/s]\u001b[A\n",
      " 67%|██████▋   | 68/102 [00:11<00:05,  5.87it/s]\u001b[A\n",
      " 68%|██████▊   | 69/102 [00:11<00:05,  5.65it/s]\u001b[A\n",
      " 69%|██████▊   | 70/102 [00:11<00:05,  5.68it/s]\u001b[A\n",
      " 70%|██████▉   | 71/102 [00:11<00:05,  5.80it/s]\u001b[A\n",
      " 71%|███████   | 72/102 [00:12<00:05,  5.79it/s]\u001b[A\n",
      " 72%|███████▏  | 73/102 [00:12<00:04,  5.89it/s]\u001b[A\n",
      " 73%|███████▎  | 74/102 [00:12<00:04,  5.85it/s]\u001b[A\n",
      " 74%|███████▎  | 75/102 [00:12<00:04,  5.80it/s]\u001b[A\n",
      " 75%|███████▍  | 76/102 [00:12<00:04,  5.80it/s]\u001b[A\n",
      " 75%|███████▌  | 77/102 [00:12<00:04,  5.77it/s]\u001b[A\n",
      " 76%|███████▋  | 78/102 [00:13<00:04,  5.88it/s]\u001b[A\n",
      " 77%|███████▋  | 79/102 [00:13<00:03,  5.88it/s]\u001b[A\n",
      " 78%|███████▊  | 80/102 [00:13<00:03,  5.88it/s]\u001b[A\n",
      " 79%|███████▉  | 81/102 [00:13<00:03,  5.96it/s]\u001b[A\n",
      " 80%|████████  | 82/102 [00:13<00:03,  5.99it/s]\u001b[A\n",
      " 81%|████████▏ | 83/102 [00:13<00:03,  5.93it/s]\u001b[A\n",
      " 82%|████████▏ | 84/102 [00:14<00:03,  5.97it/s]\u001b[A\n",
      " 83%|████████▎ | 85/102 [00:14<00:02,  6.04it/s]\u001b[A\n",
      " 84%|████████▍ | 86/102 [00:14<00:02,  6.00it/s]\u001b[A\n",
      " 85%|████████▌ | 87/102 [00:14<00:02,  5.96it/s]\u001b[A\n",
      " 86%|████████▋ | 88/102 [00:14<00:02,  5.85it/s]\u001b[A\n",
      " 87%|████████▋ | 89/102 [00:14<00:02,  5.94it/s]\u001b[A\n",
      " 88%|████████▊ | 90/102 [00:15<00:02,  5.88it/s]\u001b[A\n",
      " 89%|████████▉ | 91/102 [00:15<00:01,  5.91it/s]\u001b[A\n",
      " 90%|█████████ | 92/102 [00:15<00:01,  5.72it/s]\u001b[A\n",
      " 91%|█████████ | 93/102 [00:15<00:01,  5.77it/s]\u001b[A\n",
      " 92%|█████████▏| 94/102 [00:15<00:01,  5.85it/s]\u001b[A\n",
      " 93%|█████████▎| 95/102 [00:16<00:01,  5.92it/s]\u001b[A\n",
      " 94%|█████████▍| 96/102 [00:16<00:01,  5.83it/s]\u001b[A\n",
      " 95%|█████████▌| 97/102 [00:16<00:00,  5.88it/s]\u001b[A\n",
      " 96%|█████████▌| 98/102 [00:16<00:00,  5.95it/s]\u001b[A\n",
      " 97%|█████████▋| 99/102 [00:16<00:00,  5.91it/s]\u001b[A\n",
      " 98%|█████████▊| 100/102 [00:16<00:00,  5.93it/s]\u001b[A\n",
      " 99%|█████████▉| 101/102 [00:17<00:00,  5.88it/s]\u001b[A\n",
      "100%|██████████| 102/102 [00:17<00:00,  5.93it/s]\u001b[A\n"
     ]
    }
   ],
   "source": [
    "for match_id, team_id in tqdm(list(set_matches2teams)):\n",
    "    num_pass = count_some_event('Pass', match_id, team_id, extra_cond={'matchPeriod': '1H'})\n",
    "    num_accurate_pass = count_some_event('Pass', match_id, team_id, extra_cond={\n",
    "        'matchPeriod': '1H',\n",
    "        'tags.id': 1801\n",
    "    })\n",
    "    rate = num_accurate_pass / num_pass\n",
    "    db.results.update_one({'matchId': match_id, 'teamId': team_id}, {\n",
    "        '$set': {'numAccuratePass': num_accurate_pass, 'rateAccuratePass': rate}\n",
    "    })"
   ]
  },
  {
   "cell_type": "markdown",
   "metadata": {},
   "source": [
    "### Add the Class Variable(s)\n",
    "For now, class variable could be the number of goals or weather the team has won the game or not. Let's begin with the latter and expand it to former later on."
   ]
  },
  {
   "cell_type": "code",
   "execution_count": 57,
   "metadata": {},
   "outputs": [
    {
     "name": "stdout",
     "output_type": "stream",
     "text": [
      "1694430 3148\n",
      "{'winner': 8274, 'teamsData': {}}\n"
     ]
    },
    {
     "ename": "KeyError",
     "evalue": "'3148'",
     "output_type": "error",
     "traceback": [
      "\u001b[0;31m---------------------------------------------------------------------------\u001b[0m",
      "\u001b[0;31mKeyError\u001b[0m                                  Traceback (most recent call last)",
      "\u001b[0;32m<ipython-input-57-404b44b220ab>\u001b[0m in \u001b[0;36m<module>\u001b[0;34m\u001b[0m\n\u001b[1;32m     11\u001b[0m     })\n\u001b[1;32m     12\u001b[0m     \u001b[0mprint\u001b[0m\u001b[0;34m(\u001b[0m\u001b[0mresults\u001b[0m\u001b[0;34m)\u001b[0m\u001b[0;34m\u001b[0m\u001b[0m\n\u001b[0;32m---> 13\u001b[0;31m     \u001b[0mfinal_score\u001b[0m \u001b[0;34m=\u001b[0m \u001b[0msum\u001b[0m\u001b[0;34m(\u001b[0m\u001b[0mresults\u001b[0m\u001b[0;34m[\u001b[0m\u001b[0;34m'teamsData'\u001b[0m\u001b[0;34m]\u001b[0m\u001b[0;34m[\u001b[0m\u001b[0mstr\u001b[0m\u001b[0;34m(\u001b[0m\u001b[0mteam_id\u001b[0m\u001b[0;34m)\u001b[0m\u001b[0;34m]\u001b[0m\u001b[0;34m.\u001b[0m\u001b[0mvalues\u001b[0m\u001b[0;34m(\u001b[0m\u001b[0;34m)\u001b[0m\u001b[0;34m)\u001b[0m\u001b[0;34m\u001b[0m\u001b[0m\n\u001b[0m\u001b[1;32m     14\u001b[0m     \u001b[0mprint\u001b[0m\u001b[0;34m(\u001b[0m\u001b[0mfinal_score\u001b[0m\u001b[0;34m)\u001b[0m\u001b[0;34m\u001b[0m\u001b[0m\n\u001b[1;32m     15\u001b[0m     \u001b[0;32mbreak\u001b[0m\u001b[0;34m\u001b[0m\u001b[0m\n",
      "\u001b[0;31mKeyError\u001b[0m: '3148'"
     ]
    }
   ],
   "source": [
    "for match_id, team_id in set_matches2teams:\n",
    "    print(match_id, team_id)\n",
    "    results = db.matches.find_one({\n",
    "        'wyId': matchId,\n",
    "    }, {\n",
    "        'winner': 1,\n",
    "         'teamsData.{}.score'.format(str(team_id)): 1,\n",
    "         'teamsData.{}.scoreET'.format(str(team_id)): 1,\n",
    "         'teamsData.{}.scoreP'.format(str(team_id)): 1,\n",
    "        '_id': 0\n",
    "    })\n",
    "    print(results)\n",
    "    final_score = sum(results['teamsData'][str(team_id)].values())\n",
    "    print(final_score)\n",
    "    break"
   ]
  },
  {
   "cell_type": "code",
   "execution_count": null,
   "metadata": {},
   "outputs": [],
   "source": []
  }
 ],
 "metadata": {
  "kernelspec": {
   "display_name": "Python 3",
   "language": "python",
   "name": "python3"
  },
  "language_info": {
   "codemirror_mode": {
    "name": "ipython",
    "version": 3
   },
   "file_extension": ".py",
   "mimetype": "text/x-python",
   "name": "python",
   "nbconvert_exporter": "python",
   "pygments_lexer": "ipython3",
   "version": "3.5.2"
  }
 },
 "nbformat": 4,
 "nbformat_minor": 4
}
