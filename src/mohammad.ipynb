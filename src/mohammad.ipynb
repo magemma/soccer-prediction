{
 "cells": [
  {
   "cell_type": "code",
   "execution_count": 56,
   "metadata": {},
   "outputs": [],
   "source": [
    "import pymongo\n",
    "\n",
    "from tqdm import tqdm"
   ]
  },
  {
   "cell_type": "code",
   "execution_count": 12,
   "metadata": {},
   "outputs": [],
   "source": [
    "client = pymongo.MongoClient()\n",
    "db = client.soccerdb"
   ]
  },
  {
   "cell_type": "code",
   "execution_count": 13,
   "metadata": {},
   "outputs": [
    {
     "data": {
      "text/plain": [
       "{'_id': ObjectId('5d9dced91c801fea8e22e72e'),\n",
       " 'eventId': 8,\n",
       " 'eventName': 'Pass',\n",
       " 'eventSec': 1.255989999999997,\n",
       " 'id': 88178642,\n",
       " 'matchId': 1694390,\n",
       " 'matchPeriod': '1H',\n",
       " 'playerId': 26010,\n",
       " 'positions': [{'x': 50, 'y': 48}, {'x': 47, 'y': 50}],\n",
       " 'subEventId': 85,\n",
       " 'subEventName': 'Simple pass',\n",
       " 'tags': [{'id': 1801}],\n",
       " 'teamId': 4418}"
      ]
     },
     "execution_count": 13,
     "metadata": {},
     "output_type": "execute_result"
    }
   ],
   "source": [
    "db.events.find_one()"
   ]
  },
  {
   "cell_type": "code",
   "execution_count": 17,
   "metadata": {},
   "outputs": [],
   "source": [
    "def count_some_event(event, matchId=None, teamId=None, playerId=None):\n",
    "    cond = {'eventName': event}\n",
    "    if matchId is not None:\n",
    "        cond.update({'matchId': matchId})\n",
    "    if teamId is not None:\n",
    "        cond.update({'teamId': teamId})\n",
    "    if playerId is not None:\n",
    "        cond.update('playerId')\n",
    "        \n",
    "    return db.events.find(cond, {'_id': 0}).count()"
   ]
  },
  {
   "cell_type": "markdown",
   "metadata": {},
   "source": [
    "### Get a set of all (matchId, teamId) tuples\n",
    "We need the set of all matches and the corresponding teams to work with."
   ]
  },
  {
   "cell_type": "code",
   "execution_count": 42,
   "metadata": {},
   "outputs": [],
   "source": [
    "set_matches2teams = set(map(lambda dic: (dic['matchId'], dic['teamId']), db.events.find(\n",
    "    {'eventName': 'Pass', 'matchPeriod': '1H'}, \n",
    "    {'_id': 0, 'matchId': 1, 'teamId': 1})))"
   ]
  },
  {
   "cell_type": "markdown",
   "metadata": {},
   "source": [
    "### Get the list of all events\n",
    "Find 3 different matchIds to find the set of events inside them. This helps decreasing the probability of not seeing an event due to it's absence in a random game."
   ]
  },
  {
   "cell_type": "code",
   "execution_count": 52,
   "metadata": {},
   "outputs": [],
   "source": [
    "some_matchids = [x['matchId'] for x in db.events.find({}, {'_id': 0, 'matchId': 1}, limit=3)]\n",
    "set_event_names = set([x['eventName'] for x in db.events.find({'matchId': 1694430}, {'_id': 0, 'eventName': 1})])"
   ]
  },
  {
   "cell_type": "code",
   "execution_count": 57,
   "metadata": {},
   "outputs": [
    {
     "name": "stderr",
     "output_type": "stream",
     "text": [
      "  0%|          | 0/102 [00:00<?, ?it/s]/home/mohammad/projects/soccer-prediction/venv/lib/python3.5/site-packages/ipykernel_launcher.py:10: DeprecationWarning: count is deprecated. Use Collection.count_documents instead.\n",
      "  # Remove the CWD from sys.path while we load stuff.\n",
      "/home/mohammad/projects/soccer-prediction/venv/lib/python3.5/site-packages/ipykernel_launcher.py:10: DeprecationWarning: update is deprecated. Use replace_one, update_one or update_many instead.\n",
      "  # Remove the CWD from sys.path while we load stuff.\n",
      "100%|██████████| 102/102 [00:56<00:00,  1.81it/s]\n"
     ]
    }
   ],
   "source": [
    "for matchId, teamId in tqdm(set_matches2teams):\n",
    "    base = counts = {\n",
    "        'matchId': matchId,\n",
    "        'teamId': teamId\n",
    "    }\n",
    "    for event in set_event_names:\n",
    "        counts.update({\n",
    "            'num{}'.format(event.title().replace(' ', '')): count_some_event(event, matchId, teamId)\n",
    "        })\n",
    "    db.results.update(counts, base, upsert=True)"
   ]
  },
  {
   "cell_type": "code",
   "execution_count": null,
   "metadata": {},
   "outputs": [],
   "source": []
  }
 ],
 "metadata": {
  "kernelspec": {
   "display_name": "Python 3",
   "language": "python",
   "name": "python3"
  },
  "language_info": {
   "codemirror_mode": {
    "name": "ipython",
    "version": 3
   },
   "file_extension": ".py",
   "mimetype": "text/x-python",
   "name": "python",
   "nbconvert_exporter": "python",
   "pygments_lexer": "ipython3",
   "version": "3.5.2"
  }
 },
 "nbformat": 4,
 "nbformat_minor": 4
}
