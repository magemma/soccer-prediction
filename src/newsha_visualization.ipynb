{
 "cells": [
  {
   "cell_type": "code",
   "execution_count": 8,
   "metadata": {},
   "outputs": [],
   "source": [
    "import pandas as pd\n",
    "import pymongo\n",
    "\n",
    "from pymongo import MongoClient\n",
    "from tqdm import tqdm\n",
    "from matplotlib import pyplot as plt"
   ]
  },
  {
   "cell_type": "code",
   "execution_count": 9,
   "metadata": {},
   "outputs": [],
   "source": [
    "client = MongoClient(host='10.101.4.93')\n",
    "db = client.soccerdb"
   ]
  },
  {
   "cell_type": "markdown",
   "metadata": {},
   "source": [
    "Import data from mongodb to pandas"
   ]
  },
  {
   "cell_type": "code",
   "execution_count": 10,
   "metadata": {},
   "outputs": [],
   "source": [
    "players_collection = db.players\n",
    "players = pd.DataFrame(list(players_collection.find()))\n",
    "matches_collection = db.matches\n",
    "matches = pd.DataFrame(list(matches_collection.find()))\n",
    "events_collection = db.events\n",
    "events = pd.DataFrame(list(events_collection.find()))    \n",
    "results_collection = db.results\n",
    "results = pd.DataFrame(list(results_collection.find()))"
   ]
  },
  {
   "cell_type": "code",
   "execution_count": 4,
   "metadata": {},
   "outputs": [
    {
     "data": {
      "text/html": [
       "<div>\n",
       "<style scoped>\n",
       "    .dataframe tbody tr th:only-of-type {\n",
       "        vertical-align: middle;\n",
       "    }\n",
       "\n",
       "    .dataframe tbody tr th {\n",
       "        vertical-align: top;\n",
       "    }\n",
       "\n",
       "    .dataframe thead th {\n",
       "        text-align: right;\n",
       "    }\n",
       "</style>\n",
       "<table border=\"1\" class=\"dataframe\">\n",
       "  <thead>\n",
       "    <tr style=\"text-align: right;\">\n",
       "      <th></th>\n",
       "      <th>_id</th>\n",
       "      <th>birthArea</th>\n",
       "      <th>birthDate</th>\n",
       "      <th>currentNationalTeamId</th>\n",
       "      <th>currentTeamId</th>\n",
       "      <th>firstName</th>\n",
       "      <th>foot</th>\n",
       "      <th>height</th>\n",
       "      <th>lastName</th>\n",
       "      <th>middleName</th>\n",
       "      <th>passportArea</th>\n",
       "      <th>role</th>\n",
       "      <th>shortName</th>\n",
       "      <th>weight</th>\n",
       "      <th>wyId</th>\n",
       "    </tr>\n",
       "  </thead>\n",
       "  <tbody>\n",
       "    <tr>\n",
       "      <th>0</th>\n",
       "      <td>5da33c4204f673bbf2661cdd</td>\n",
       "      <td>{'id': '792', 'alpha3code': 'TUR', 'alpha2code...</td>\n",
       "      <td>1989-06-17</td>\n",
       "      <td>4687</td>\n",
       "      <td>4502</td>\n",
       "      <td>Harun</td>\n",
       "      <td>right</td>\n",
       "      <td>187</td>\n",
       "      <td>Tekin</td>\n",
       "      <td></td>\n",
       "      <td>{'id': '792', 'alpha3code': 'TUR', 'alpha2code...</td>\n",
       "      <td>{'code2': 'GK', 'code3': 'GKP', 'name': 'Goalk...</td>\n",
       "      <td>H. Tekin</td>\n",
       "      <td>78</td>\n",
       "      <td>32777</td>\n",
       "    </tr>\n",
       "    <tr>\n",
       "      <th>1</th>\n",
       "      <td>5da33c4204f673bbf2661cdf</td>\n",
       "      <td>{'id': '250', 'alpha3code': 'FRA', 'alpha2code...</td>\n",
       "      <td>1999-01-23</td>\n",
       "      <td>4423</td>\n",
       "      <td>3775</td>\n",
       "      <td>Malang</td>\n",
       "      <td>left</td>\n",
       "      <td>182</td>\n",
       "      <td>Sarr</td>\n",
       "      <td></td>\n",
       "      <td>{'id': '686', 'alpha3code': 'SEN', 'alpha2code...</td>\n",
       "      <td>{'code2': 'DF', 'code3': 'DEF', 'name': 'Defen...</td>\n",
       "      <td>M. Sarr</td>\n",
       "      <td>73</td>\n",
       "      <td>393228</td>\n",
       "    </tr>\n",
       "    <tr>\n",
       "      <th>2</th>\n",
       "      <td>5da33c4204f673bbf2661ce1</td>\n",
       "      <td>{'id': '250', 'alpha3code': 'FRA', 'alpha2code...</td>\n",
       "      <td>1998-10-26</td>\n",
       "      <td>null</td>\n",
       "      <td>3772</td>\n",
       "      <td>Over</td>\n",
       "      <td></td>\n",
       "      <td>176</td>\n",
       "      <td>Mandanda</td>\n",
       "      <td></td>\n",
       "      <td>{'id': '250', 'alpha3code': 'FRA', 'alpha2code...</td>\n",
       "      <td>{'code2': 'GK', 'code3': 'GKP', 'name': 'Goalk...</td>\n",
       "      <td>O. Mandanda</td>\n",
       "      <td>72</td>\n",
       "      <td>393230</td>\n",
       "    </tr>\n",
       "    <tr>\n",
       "      <th>3</th>\n",
       "      <td>5da33c4204f673bbf2661ce3</td>\n",
       "      <td>{'id': '250', 'alpha3code': 'FRA', 'alpha2code...</td>\n",
       "      <td>1990-03-06</td>\n",
       "      <td>19314</td>\n",
       "      <td>683</td>\n",
       "      <td>Alfred John Momar</td>\n",
       "      <td>right</td>\n",
       "      <td>187</td>\n",
       "      <td>N'Diaye</td>\n",
       "      <td></td>\n",
       "      <td>{'id': '686', 'alpha3code': 'SEN', 'alpha2code...</td>\n",
       "      <td>{'code2': 'MD', 'code3': 'MID', 'name': 'Midfi...</td>\n",
       "      <td>A. N'Diaye</td>\n",
       "      <td>82</td>\n",
       "      <td>32793</td>\n",
       "    </tr>\n",
       "    <tr>\n",
       "      <th>4</th>\n",
       "      <td>5da33c4204f673bbf2661ce5</td>\n",
       "      <td>{'id': '250', 'alpha3code': 'FRA', 'alpha2code...</td>\n",
       "      <td>1999-05-25</td>\n",
       "      <td>null</td>\n",
       "      <td>2975</td>\n",
       "      <td>Ibrahima</td>\n",
       "      <td>right</td>\n",
       "      <td>192</td>\n",
       "      <td>Konat\\u00e9</td>\n",
       "      <td></td>\n",
       "      <td>{'id': '250', 'alpha3code': 'FRA', 'alpha2code...</td>\n",
       "      <td>{'code2': 'DF', 'code3': 'DEF', 'name': 'Defen...</td>\n",
       "      <td>I. Konat\\u00e9</td>\n",
       "      <td>84</td>\n",
       "      <td>393247</td>\n",
       "    </tr>\n",
       "  </tbody>\n",
       "</table>\n",
       "</div>"
      ],
      "text/plain": [
       "                        _id  \\\n",
       "0  5da33c4204f673bbf2661cdd   \n",
       "1  5da33c4204f673bbf2661cdf   \n",
       "2  5da33c4204f673bbf2661ce1   \n",
       "3  5da33c4204f673bbf2661ce3   \n",
       "4  5da33c4204f673bbf2661ce5   \n",
       "\n",
       "                                           birthArea   birthDate  \\\n",
       "0  {'id': '792', 'alpha3code': 'TUR', 'alpha2code...  1989-06-17   \n",
       "1  {'id': '250', 'alpha3code': 'FRA', 'alpha2code...  1999-01-23   \n",
       "2  {'id': '250', 'alpha3code': 'FRA', 'alpha2code...  1998-10-26   \n",
       "3  {'id': '250', 'alpha3code': 'FRA', 'alpha2code...  1990-03-06   \n",
       "4  {'id': '250', 'alpha3code': 'FRA', 'alpha2code...  1999-05-25   \n",
       "\n",
       "  currentNationalTeamId currentTeamId          firstName   foot  height  \\\n",
       "0                  4687          4502              Harun  right     187   \n",
       "1                  4423          3775             Malang   left     182   \n",
       "2                  null          3772               Over            176   \n",
       "3                 19314           683  Alfred John Momar  right     187   \n",
       "4                  null          2975           Ibrahima  right     192   \n",
       "\n",
       "      lastName middleName                                       passportArea  \\\n",
       "0        Tekin             {'id': '792', 'alpha3code': 'TUR', 'alpha2code...   \n",
       "1         Sarr             {'id': '686', 'alpha3code': 'SEN', 'alpha2code...   \n",
       "2     Mandanda             {'id': '250', 'alpha3code': 'FRA', 'alpha2code...   \n",
       "3      N'Diaye             {'id': '686', 'alpha3code': 'SEN', 'alpha2code...   \n",
       "4  Konat\\u00e9             {'id': '250', 'alpha3code': 'FRA', 'alpha2code...   \n",
       "\n",
       "                                                role       shortName  weight  \\\n",
       "0  {'code2': 'GK', 'code3': 'GKP', 'name': 'Goalk...        H. Tekin      78   \n",
       "1  {'code2': 'DF', 'code3': 'DEF', 'name': 'Defen...         M. Sarr      73   \n",
       "2  {'code2': 'GK', 'code3': 'GKP', 'name': 'Goalk...     O. Mandanda      72   \n",
       "3  {'code2': 'MD', 'code3': 'MID', 'name': 'Midfi...      A. N'Diaye      82   \n",
       "4  {'code2': 'DF', 'code3': 'DEF', 'name': 'Defen...  I. Konat\\u00e9      84   \n",
       "\n",
       "     wyId  \n",
       "0   32777  \n",
       "1  393228  \n",
       "2  393230  \n",
       "3   32793  \n",
       "4  393247  "
      ]
     },
     "execution_count": 4,
     "metadata": {},
     "output_type": "execute_result"
    }
   ],
   "source": [
    "players.head()"
   ]
  },
  {
   "cell_type": "code",
   "execution_count": 5,
   "metadata": {},
   "outputs": [
    {
     "data": {
      "text/plain": [
       "array([[<matplotlib.axes._subplots.AxesSubplot object at 0x7f27a0a31d68>]],\n",
       "      dtype=object)"
      ]
     },
     "execution_count": 5,
     "metadata": {},
     "output_type": "execute_result"
    }
   ],
   "source": [
    "players.hist(column = 'height')"
   ]
  },
  {
   "cell_type": "code",
   "execution_count": 6,
   "metadata": {},
   "outputs": [
    {
     "data": {
      "text/plain": [
       "[{'height': 0, 'shortName': 'V\\\\u00edctor L\\\\u00f3pez'},\n",
       " {'height': 0, 'shortName': '\\\\u00cdan Pino'},\n",
       " {'height': 0, 'shortName': 'B. V\\\\u00e9rit\\\\u00e9'},\n",
       " {'height': 0, 'shortName': 'R. A\\\\u00eft Nouri'},\n",
       " {'height': 0, 'shortName': 'S. Sanogo'}]"
      ]
     },
     "execution_count": 6,
     "metadata": {},
     "output_type": "execute_result"
    }
   ],
   "source": [
    "list(db.players.find({'height': {'$lt': 25}},{'_id': 0, 'shortName': 1, 'height': 1}))[:5]"
   ]
  },
  {
   "cell_type": "code",
   "execution_count": 7,
   "metadata": {},
   "outputs": [
    {
     "data": {
      "text/plain": [
       "array([[<matplotlib.axes._subplots.AxesSubplot object at 0x7f27a0a00d30>]],\n",
       "      dtype=object)"
      ]
     },
     "execution_count": 7,
     "metadata": {},
     "output_type": "execute_result"
    },
    {
     "data": {
      "image/png": "[encoded data removed]",
      "text/plain": [
       "<Figure size 432x288 with 1 Axes>"
      ]
     },
     "metadata": {
      "needs_background": "light"
     },
     "output_type": "display_data"
    }
   ],
   "source": [
    "players.hist(column = 'weight')"
   ]
  },
  {
   "cell_type": "code",
   "execution_count": 8,
   "metadata": {},
   "outputs": [
    {
     "data": {
      "text/plain": [
       "[{'shortName': 'V\\\\u00edctor L\\\\u00f3pez', 'weight': 0},\n",
       " {'shortName': '\\\\u00cdan Pino', 'weight': 0},\n",
       " {'shortName': 'M. S\\\\u00fcndermann', 'weight': 0},\n",
       " {'shortName': 'Brais M\\\\u00e9ndez', 'weight': 0},\n",
       " {'shortName': 'B. V\\\\u00e9rit\\\\u00e9', 'weight': 0}]"
      ]
     },
     "execution_count": 8,
     "metadata": {},
     "output_type": "execute_result"
    }
   ],
   "source": [
    "list(db.players.find({'weight': {'$lt': 25}},{'_id': 0, 'shortName': 1, 'weight': 1}))[:5]"
   ]
  },
  {
   "cell_type": "code",
   "execution_count": 34,
   "metadata": {},
   "outputs": [
    {
     "data": {
      "text/plain": [
       "<matplotlib.axes._subplots.AxesSubplot at 0x7f2781e6d4e0>"
      ]
     },
     "execution_count": 34,
     "metadata": {},
     "output_type": "execute_result"
    },
    {
     "data": {
      "image/png": "[encoded data removed]",
      "text/plain": [
       "<Figure size 720x720 with 1 Axes>"
      ]
     },
     "metadata": {
      "needs_background": "light"
     },
     "output_type": "display_data"
    }
   ],
   "source": [
    "fig = plt.figure(figsize=(10, 10)) \n",
    "fig_dims = (2, 1)\n",
    "plt.subplot2grid(fig_dims, (0, 0))\n",
    "players['foot'].value_counts().plot(kind='bar', title='Frequency of Left and Right foot')"
   ]
  },
  {
   "cell_type": "code",
   "execution_count": 27,
   "metadata": {},
   "outputs": [
    {
     "data": {
      "text/plain": [
       "_id                       0\n",
       "birthArea                 0\n",
       "birthDate                 0\n",
       "currentNationalTeamId     0\n",
       "currentTeamId            91\n",
       "firstName                 0\n",
       "foot                      0\n",
       "height                    0\n",
       "lastName                  0\n",
       "middleName                0\n",
       "passportArea              0\n",
       "role                      0\n",
       "shortName                 0\n",
       "weight                    0\n",
       "wyId                      0\n",
       "dtype: int64"
      ]
     },
     "execution_count": 27,
     "metadata": {},
     "output_type": "execute_result"
    }
   ],
   "source": [
    "players.isna().sum()"
   ]
  },
  {
   "cell_type": "code",
   "execution_count": 29,
   "metadata": {},
   "outputs": [
    {
     "data": {
      "text/plain": [
       "_id                0\n",
       "competitionId      0\n",
       "date               0\n",
       "dateutc            0\n",
       "duration           0\n",
       "gameweek           0\n",
       "groupName        380\n",
       "label              0\n",
       "referees           0\n",
       "roundId            0\n",
       "seasonId           0\n",
       "status             0\n",
       "teamsData          0\n",
       "venue              0\n",
       "winner             0\n",
       "wyId               0\n",
       "dtype: int64"
      ]
     },
     "execution_count": 29,
     "metadata": {},
     "output_type": "execute_result"
    }
   ],
   "source": [
    "matches.isna().sum()"
   ]
  },
  {
   "cell_type": "code",
   "execution_count": 30,
   "metadata": {},
   "outputs": [
    {
     "data": {
      "text/plain": [
       "_id             0\n",
       "eventId         0\n",
       "eventName       0\n",
       "eventSec        0\n",
       "id              0\n",
       "matchId         0\n",
       "matchPeriod     0\n",
       "playerId        0\n",
       "positions       0\n",
       "subEventId      0\n",
       "subEventName    0\n",
       "tags            0\n",
       "teamId          0\n",
       "dtype: int64"
      ]
     },
     "execution_count": 30,
     "metadata": {},
     "output_type": "execute_result"
    }
   ],
   "source": [
    "events.isna().sum()"
   ]
  },
  {
   "cell_type": "code",
   "execution_count": 35,
   "metadata": {},
   "outputs": [
    {
     "data": {
      "text/html": [
       "<div>\n",
       "<style scoped>\n",
       "    .dataframe tbody tr th:only-of-type {\n",
       "        vertical-align: middle;\n",
       "    }\n",
       "\n",
       "    .dataframe tbody tr th {\n",
       "        vertical-align: top;\n",
       "    }\n",
       "\n",
       "    .dataframe thead th {\n",
       "        text-align: right;\n",
       "    }\n",
       "</style>\n",
       "<table border=\"1\" class=\"dataframe\">\n",
       "  <thead>\n",
       "    <tr style=\"text-align: right;\">\n",
       "      <th></th>\n",
       "      <th>_id</th>\n",
       "      <th>eventId</th>\n",
       "      <th>eventName</th>\n",
       "      <th>eventSec</th>\n",
       "      <th>id</th>\n",
       "      <th>matchId</th>\n",
       "      <th>matchPeriod</th>\n",
       "      <th>playerId</th>\n",
       "      <th>positions</th>\n",
       "      <th>subEventId</th>\n",
       "      <th>subEventName</th>\n",
       "      <th>tags</th>\n",
       "      <th>teamId</th>\n",
       "    </tr>\n",
       "  </thead>\n",
       "  <tbody>\n",
       "    <tr>\n",
       "      <th>0</th>\n",
       "      <td>5da38ad404f673bbf2701349</td>\n",
       "      <td>8</td>\n",
       "      <td>Pass</td>\n",
       "      <td>1.255990</td>\n",
       "      <td>88178642</td>\n",
       "      <td>1694390</td>\n",
       "      <td>1H</td>\n",
       "      <td>26010</td>\n",
       "      <td>[{'x': 50, 'y': 48}, {'x': 47, 'y': 50}]</td>\n",
       "      <td>85</td>\n",
       "      <td>Simple pass</td>\n",
       "      <td>[{'id': 1801}]</td>\n",
       "      <td>4418</td>\n",
       "    </tr>\n",
       "    <tr>\n",
       "      <th>1</th>\n",
       "      <td>5da38ad404f673bbf270134b</td>\n",
       "      <td>8</td>\n",
       "      <td>Pass</td>\n",
       "      <td>2.351908</td>\n",
       "      <td>88178643</td>\n",
       "      <td>1694390</td>\n",
       "      <td>1H</td>\n",
       "      <td>3682</td>\n",
       "      <td>[{'x': 47, 'y': 50}, {'x': 41, 'y': 48}]</td>\n",
       "      <td>85</td>\n",
       "      <td>Simple pass</td>\n",
       "      <td>[{'id': 1801}]</td>\n",
       "      <td>4418</td>\n",
       "    </tr>\n",
       "    <tr>\n",
       "      <th>2</th>\n",
       "      <td>5da38ad404f673bbf270134d</td>\n",
       "      <td>8</td>\n",
       "      <td>Pass</td>\n",
       "      <td>3.241028</td>\n",
       "      <td>88178644</td>\n",
       "      <td>1694390</td>\n",
       "      <td>1H</td>\n",
       "      <td>31528</td>\n",
       "      <td>[{'x': 41, 'y': 48}, {'x': 32, 'y': 35}]</td>\n",
       "      <td>85</td>\n",
       "      <td>Simple pass</td>\n",
       "      <td>[{'id': 1801}]</td>\n",
       "      <td>4418</td>\n",
       "    </tr>\n",
       "    <tr>\n",
       "      <th>3</th>\n",
       "      <td>5da38ad404f673bbf270134f</td>\n",
       "      <td>8</td>\n",
       "      <td>Pass</td>\n",
       "      <td>6.033681</td>\n",
       "      <td>88178645</td>\n",
       "      <td>1694390</td>\n",
       "      <td>1H</td>\n",
       "      <td>7855</td>\n",
       "      <td>[{'x': 32, 'y': 35}, {'x': 89, 'y': 6}]</td>\n",
       "      <td>83</td>\n",
       "      <td>High pass</td>\n",
       "      <td>[{'id': 1802}]</td>\n",
       "      <td>4418</td>\n",
       "    </tr>\n",
       "    <tr>\n",
       "      <th>4</th>\n",
       "      <td>5da38ad404f673bbf2701351</td>\n",
       "      <td>1</td>\n",
       "      <td>Duel</td>\n",
       "      <td>13.143591</td>\n",
       "      <td>88178646</td>\n",
       "      <td>1694390</td>\n",
       "      <td>1H</td>\n",
       "      <td>25437</td>\n",
       "      <td>[{'x': 89, 'y': 6}, {'x': 85, 'y': 0}]</td>\n",
       "      <td>12</td>\n",
       "      <td>Ground defending duel</td>\n",
       "      <td>[{'id': 702}, {'id': 1801}]</td>\n",
       "      <td>4418</td>\n",
       "    </tr>\n",
       "  </tbody>\n",
       "</table>\n",
       "</div>"
      ],
      "text/plain": [
       "                        _id  eventId eventName   eventSec        id  matchId  \\\n",
       "0  5da38ad404f673bbf2701349        8      Pass   1.255990  88178642  1694390   \n",
       "1  5da38ad404f673bbf270134b        8      Pass   2.351908  88178643  1694390   \n",
       "2  5da38ad404f673bbf270134d        8      Pass   3.241028  88178644  1694390   \n",
       "3  5da38ad404f673bbf270134f        8      Pass   6.033681  88178645  1694390   \n",
       "4  5da38ad404f673bbf2701351        1      Duel  13.143591  88178646  1694390   \n",
       "\n",
       "  matchPeriod  playerId                                 positions subEventId  \\\n",
       "0          1H     26010  [{'x': 50, 'y': 48}, {'x': 47, 'y': 50}]         85   \n",
       "1          1H      3682  [{'x': 47, 'y': 50}, {'x': 41, 'y': 48}]         85   \n",
       "2          1H     31528  [{'x': 41, 'y': 48}, {'x': 32, 'y': 35}]         85   \n",
       "3          1H      7855   [{'x': 32, 'y': 35}, {'x': 89, 'y': 6}]         83   \n",
       "4          1H     25437    [{'x': 89, 'y': 6}, {'x': 85, 'y': 0}]         12   \n",
       "\n",
       "            subEventName                         tags  teamId  \n",
       "0            Simple pass               [{'id': 1801}]    4418  \n",
       "1            Simple pass               [{'id': 1801}]    4418  \n",
       "2            Simple pass               [{'id': 1801}]    4418  \n",
       "3              High pass               [{'id': 1802}]    4418  \n",
       "4  Ground defending duel  [{'id': 702}, {'id': 1801}]    4418  "
      ]
     },
     "execution_count": 35,
     "metadata": {},
     "output_type": "execute_result"
    }
   ],
   "source": [
    "events.head()"
   ]
  },
  {
   "cell_type": "code",
   "execution_count": 38,
   "metadata": {},
   "outputs": [
    {
     "data": {
      "text/plain": [
       "<matplotlib.axes._subplots.AxesSubplot at 0x7f27815af3c8>"
      ]
     },
     "execution_count": 38,
     "metadata": {},
     "output_type": "execute_result"
    },
    {
     "data": {
      "image/png": "[encoded data removed]",
      "text/plain": [
       "<Figure size 1440x1440 with 1 Axes>"
      ]
     },
     "metadata": {
      "needs_background": "light"
     },
     "output_type": "display_data"
    }
   ],
   "source": [
    "fig = plt.figure(figsize=(20, 20)) \n",
    "fig_dims = (2, 1)\n",
    "plt.subplot2grid(fig_dims, (0, 0))\n",
    "events['eventName'].value_counts().plot(kind='bar')"
   ]
  },
  {
   "cell_type": "code",
   "execution_count": 39,
   "metadata": {},
   "outputs": [
    {
     "data": {
      "text/plain": [
       "<matplotlib.axes._subplots.AxesSubplot at 0x7f278032da58>"
      ]
     },
     "execution_count": 39,
     "metadata": {},
     "output_type": "execute_result"
    },
    {
     "data": {
      "image/png": "[encoded data removed]",
      "text/plain": [
       "<Figure size 720x720 with 1 Axes>"
      ]
     },
     "metadata": {
      "needs_background": "light"
     },
     "output_type": "display_data"
    }
   ],
   "source": [
    "fig = plt.figure(figsize=(10, 10)) \n",
    "fig_dims = (2, 1)\n",
    "plt.subplot2grid(fig_dims, (0, 0))\n",
    "events['matchPeriod'].value_counts().plot(kind='bar')"
   ]
  },
  {
   "cell_type": "code",
   "execution_count": 40,
   "metadata": {},
   "outputs": [
    {
     "data": {
      "text/plain": [
       "<matplotlib.axes._subplots.AxesSubplot at 0x7f277f338588>"
      ]
     },
     "execution_count": 40,
     "metadata": {},
     "output_type": "execute_result"
    },
    {
     "data": {
      "image/png": "[encoded data removed]",
      "text/plain": [
       "<Figure size 1440x1440 with 1 Axes>"
      ]
     },
     "metadata": {
      "needs_background": "light"
     },
     "output_type": "display_data"
    }
   ],
   "source": [
    "fig = plt.figure(figsize=(20, 20)) \n",
    "fig_dims = (2, 1)\n",
    "plt.subplot2grid(fig_dims, (0, 0))\n",
    "events['subEventName'].value_counts().plot(kind='bar')"
   ]
  },
  {
   "cell_type": "code",
   "execution_count": 41,
   "metadata": {},
   "outputs": [
    {
     "data": {
      "text/html": [
       "<div>\n",
       "<style scoped>\n",
       "    .dataframe tbody tr th:only-of-type {\n",
       "        vertical-align: middle;\n",
       "    }\n",
       "\n",
       "    .dataframe tbody tr th {\n",
       "        vertical-align: top;\n",
       "    }\n",
       "\n",
       "    .dataframe thead th {\n",
       "        text-align: right;\n",
       "    }\n",
       "</style>\n",
       "<table border=\"1\" class=\"dataframe\">\n",
       "  <thead>\n",
       "    <tr style=\"text-align: right;\">\n",
       "      <th></th>\n",
       "      <th>_id</th>\n",
       "      <th>competitionId</th>\n",
       "      <th>date</th>\n",
       "      <th>dateutc</th>\n",
       "      <th>duration</th>\n",
       "      <th>gameweek</th>\n",
       "      <th>groupName</th>\n",
       "      <th>label</th>\n",
       "      <th>referees</th>\n",
       "      <th>roundId</th>\n",
       "      <th>seasonId</th>\n",
       "      <th>status</th>\n",
       "      <th>teamsData</th>\n",
       "      <th>venue</th>\n",
       "      <th>winner</th>\n",
       "      <th>wyId</th>\n",
       "    </tr>\n",
       "  </thead>\n",
       "  <tbody>\n",
       "    <tr>\n",
       "      <th>0</th>\n",
       "      <td>5da3420304f673bbf26abb0b</td>\n",
       "      <td>524</td>\n",
       "      <td>May 20, 2018 at 8:45:00 PM GMT+2</td>\n",
       "      <td>2018-05-20 18:45:00</td>\n",
       "      <td>Regular</td>\n",
       "      <td>38</td>\n",
       "      <td>NaN</td>\n",
       "      <td>Lazio - Internazionale, 2 - 3</td>\n",
       "      <td>[{'refereeId': 377206, 'role': 'referee'}, {'r...</td>\n",
       "      <td>4406278</td>\n",
       "      <td>181248</td>\n",
       "      <td>Played</td>\n",
       "      <td>{'3162': {'coachId': 251025, 'side': 'home', '...</td>\n",
       "      <td></td>\n",
       "      <td>3161</td>\n",
       "      <td>2576335</td>\n",
       "    </tr>\n",
       "    <tr>\n",
       "      <th>1</th>\n",
       "      <td>5da3420404f673bbf26abbb6</td>\n",
       "      <td>524</td>\n",
       "      <td>May 20, 2018 at 8:45:00 PM GMT+2</td>\n",
       "      <td>2018-05-20 18:45:00</td>\n",
       "      <td>Regular</td>\n",
       "      <td>38</td>\n",
       "      <td>NaN</td>\n",
       "      <td>Sassuolo - Roma, 0 - 1</td>\n",
       "      <td>[{'refereeId': 377255, 'role': 'referee'}, {'r...</td>\n",
       "      <td>4406278</td>\n",
       "      <td>181248</td>\n",
       "      <td>Played</td>\n",
       "      <td>{'3315': {'coachId': 20603, 'side': 'home', 't...</td>\n",
       "      <td>MAPEI Stadium - Citt\\u00e0 del Tricolore</td>\n",
       "      <td>3158</td>\n",
       "      <td>2576336</td>\n",
       "    </tr>\n",
       "    <tr>\n",
       "      <th>2</th>\n",
       "      <td>5da3420404f673bbf26abbb9</td>\n",
       "      <td>524</td>\n",
       "      <td>May 20, 2018 at 6:00:00 PM GMT+2</td>\n",
       "      <td>2018-05-20 16:00:00</td>\n",
       "      <td>Regular</td>\n",
       "      <td>38</td>\n",
       "      <td>NaN</td>\n",
       "      <td>Cagliari - Atalanta, 1 - 0</td>\n",
       "      <td>[{'refereeId': 377247, 'role': 'referee'}, {'r...</td>\n",
       "      <td>4406278</td>\n",
       "      <td>181248</td>\n",
       "      <td>Played</td>\n",
       "      <td>{'3172': {'coachId': 210116, 'side': 'away', '...</td>\n",
       "      <td></td>\n",
       "      <td>3173</td>\n",
       "      <td>2576329</td>\n",
       "    </tr>\n",
       "    <tr>\n",
       "      <th>3</th>\n",
       "      <td>5da3420404f673bbf26abbbb</td>\n",
       "      <td>524</td>\n",
       "      <td>May 20, 2018 at 6:00:00 PM GMT+2</td>\n",
       "      <td>2018-05-20 16:00:00</td>\n",
       "      <td>Regular</td>\n",
       "      <td>38</td>\n",
       "      <td>NaN</td>\n",
       "      <td>Chievo - Benevento, 1 - 0</td>\n",
       "      <td>[{'refereeId': 377246, 'role': 'referee'}, {'r...</td>\n",
       "      <td>4406278</td>\n",
       "      <td>181248</td>\n",
       "      <td>Played</td>\n",
       "      <td>{'3165': {'coachId': 272970, 'side': 'home', '...</td>\n",
       "      <td></td>\n",
       "      <td>3165</td>\n",
       "      <td>2576330</td>\n",
       "    </tr>\n",
       "    <tr>\n",
       "      <th>4</th>\n",
       "      <td>5da3420404f673bbf26abbbd</td>\n",
       "      <td>524</td>\n",
       "      <td>May 20, 2018 at 6:00:00 PM GMT+2</td>\n",
       "      <td>2018-05-20 16:00:00</td>\n",
       "      <td>Regular</td>\n",
       "      <td>38</td>\n",
       "      <td>NaN</td>\n",
       "      <td>Udinese - Bologna, 1 - 0</td>\n",
       "      <td>[{'refereeId': 377254, 'role': 'referee'}, {'r...</td>\n",
       "      <td>4406278</td>\n",
       "      <td>181248</td>\n",
       "      <td>Played</td>\n",
       "      <td>{'3166': {'coachId': 20481, 'side': 'away', 't...</td>\n",
       "      <td></td>\n",
       "      <td>3163</td>\n",
       "      <td>2576331</td>\n",
       "    </tr>\n",
       "  </tbody>\n",
       "</table>\n",
       "</div>"
      ],
      "text/plain": [
       "                        _id  competitionId                              date  \\\n",
       "0  5da3420304f673bbf26abb0b            524  May 20, 2018 at 8:45:00 PM GMT+2   \n",
       "1  5da3420404f673bbf26abbb6            524  May 20, 2018 at 8:45:00 PM GMT+2   \n",
       "2  5da3420404f673bbf26abbb9            524  May 20, 2018 at 6:00:00 PM GMT+2   \n",
       "3  5da3420404f673bbf26abbbb            524  May 20, 2018 at 6:00:00 PM GMT+2   \n",
       "4  5da3420404f673bbf26abbbd            524  May 20, 2018 at 6:00:00 PM GMT+2   \n",
       "\n",
       "               dateutc duration  gameweek groupName  \\\n",
       "0  2018-05-20 18:45:00  Regular        38       NaN   \n",
       "1  2018-05-20 18:45:00  Regular        38       NaN   \n",
       "2  2018-05-20 16:00:00  Regular        38       NaN   \n",
       "3  2018-05-20 16:00:00  Regular        38       NaN   \n",
       "4  2018-05-20 16:00:00  Regular        38       NaN   \n",
       "\n",
       "                           label  \\\n",
       "0  Lazio - Internazionale, 2 - 3   \n",
       "1         Sassuolo - Roma, 0 - 1   \n",
       "2     Cagliari - Atalanta, 1 - 0   \n",
       "3      Chievo - Benevento, 1 - 0   \n",
       "4       Udinese - Bologna, 1 - 0   \n",
       "\n",
       "                                            referees  roundId  seasonId  \\\n",
       "0  [{'refereeId': 377206, 'role': 'referee'}, {'r...  4406278    181248   \n",
       "1  [{'refereeId': 377255, 'role': 'referee'}, {'r...  4406278    181248   \n",
       "2  [{'refereeId': 377247, 'role': 'referee'}, {'r...  4406278    181248   \n",
       "3  [{'refereeId': 377246, 'role': 'referee'}, {'r...  4406278    181248   \n",
       "4  [{'refereeId': 377254, 'role': 'referee'}, {'r...  4406278    181248   \n",
       "\n",
       "   status                                          teamsData  \\\n",
       "0  Played  {'3162': {'coachId': 251025, 'side': 'home', '...   \n",
       "1  Played  {'3315': {'coachId': 20603, 'side': 'home', 't...   \n",
       "2  Played  {'3172': {'coachId': 210116, 'side': 'away', '...   \n",
       "3  Played  {'3165': {'coachId': 272970, 'side': 'home', '...   \n",
       "4  Played  {'3166': {'coachId': 20481, 'side': 'away', 't...   \n",
       "\n",
       "                                      venue  winner     wyId  \n",
       "0                                              3161  2576335  \n",
       "1  MAPEI Stadium - Citt\\u00e0 del Tricolore    3158  2576336  \n",
       "2                                              3173  2576329  \n",
       "3                                              3165  2576330  \n",
       "4                                              3163  2576331  "
      ]
     },
     "execution_count": 41,
     "metadata": {},
     "output_type": "execute_result"
    }
   ],
   "source": [
    "matches.head()"
   ]
  },
  {
   "cell_type": "code",
   "execution_count": 43,
   "metadata": {},
   "outputs": [
    {
     "data": {
      "text/plain": [
       "<matplotlib.axes._subplots.AxesSubplot at 0x7f277f3885c0>"
      ]
     },
     "execution_count": 43,
     "metadata": {},
     "output_type": "execute_result"
    },
    {
     "data": {
      "image/png": "[encoded data removed]",
      "text/plain": [
       "<Figure size 720x720 with 1 Axes>"
      ]
     },
     "metadata": {
      "needs_background": "light"
     },
     "output_type": "display_data"
    }
   ],
   "source": [
    "fig = plt.figure(figsize=(10, 10)) \n",
    "fig_dims = (2, 1)\n",
    "plt.subplot2grid(fig_dims, (0, 0))\n",
    "matches['duration'].value_counts().plot(kind='bar')"
   ]
  },
  {
   "cell_type": "code",
   "execution_count": 44,
   "metadata": {},
   "outputs": [
    {
     "data": {
      "text/plain": [
       "<matplotlib.axes._subplots.AxesSubplot at 0x7f277f35d3c8>"
      ]
     },
     "execution_count": 44,
     "metadata": {},
     "output_type": "execute_result"
    },
    {
     "data": {
      "image/png": "[encoded data removed]",
      "text/plain": [
       "<Figure size 720x720 with 1 Axes>"
      ]
     },
     "metadata": {
      "needs_background": "light"
     },
     "output_type": "display_data"
    }
   ],
   "source": [
    "fig = plt.figure(figsize=(10, 10)) \n",
    "fig_dims = (2, 1)\n",
    "plt.subplot2grid(fig_dims, (0, 0))\n",
    "matches['status'].value_counts().plot(kind='bar')"
   ]
  },
  {
   "cell_type": "code",
   "execution_count": 48,
   "metadata": {},
   "outputs": [
    {
     "data": {
      "text/html": [
       "<div>\n",
       "<style scoped>\n",
       "    .dataframe tbody tr th:only-of-type {\n",
       "        vertical-align: middle;\n",
       "    }\n",
       "\n",
       "    .dataframe tbody tr th {\n",
       "        vertical-align: top;\n",
       "    }\n",
       "\n",
       "    .dataframe thead th {\n",
       "        text-align: right;\n",
       "    }\n",
       "</style>\n",
       "<table border=\"1\" class=\"dataframe\">\n",
       "  <thead>\n",
       "    <tr style=\"text-align: right;\">\n",
       "      <th></th>\n",
       "      <th>_id</th>\n",
       "      <th>matchId</th>\n",
       "      <th>meanPlayerOverall</th>\n",
       "      <th>meanPlayerPotential</th>\n",
       "      <th>meanPrevScore</th>\n",
       "      <th>meanPrevScoreET</th>\n",
       "      <th>meanPrevScoreHT</th>\n",
       "      <th>meanPrevScoreP</th>\n",
       "      <th>numAccuratePass</th>\n",
       "      <th>numDuel</th>\n",
       "      <th>...</th>\n",
       "      <th>numFreeKick</th>\n",
       "      <th>numGoalkeeperLeavingLine</th>\n",
       "      <th>numInterruption</th>\n",
       "      <th>numOffside</th>\n",
       "      <th>numOthersOnTheBall</th>\n",
       "      <th>numPass</th>\n",
       "      <th>numSaveAttempt</th>\n",
       "      <th>numShot</th>\n",
       "      <th>rateAccuratePass</th>\n",
       "      <th>teamId</th>\n",
       "    </tr>\n",
       "  </thead>\n",
       "  <tbody>\n",
       "    <tr>\n",
       "      <th>0</th>\n",
       "      <td>5da399af04f673bbf273049a</td>\n",
       "      <td>1694430</td>\n",
       "      <td>58.217391</td>\n",
       "      <td>59.478261</td>\n",
       "      <td>1.000000</td>\n",
       "      <td>0.0</td>\n",
       "      <td>0.666667</td>\n",
       "      <td>0.0</td>\n",
       "      <td>259</td>\n",
       "      <td>108</td>\n",
       "      <td>...</td>\n",
       "      <td>16</td>\n",
       "      <td>0</td>\n",
       "      <td>0</td>\n",
       "      <td>0</td>\n",
       "      <td>14</td>\n",
       "      <td>294</td>\n",
       "      <td>1</td>\n",
       "      <td>13</td>\n",
       "      <td>0.880952</td>\n",
       "      <td>3148</td>\n",
       "    </tr>\n",
       "    <tr>\n",
       "      <th>1</th>\n",
       "      <td>5da399b004f673bbf27304af</td>\n",
       "      <td>1694390</td>\n",
       "      <td>71.086957</td>\n",
       "      <td>72.217391</td>\n",
       "      <td>0.000000</td>\n",
       "      <td>0.0</td>\n",
       "      <td>0.000000</td>\n",
       "      <td>0.0</td>\n",
       "      <td>225</td>\n",
       "      <td>115</td>\n",
       "      <td>...</td>\n",
       "      <td>29</td>\n",
       "      <td>0</td>\n",
       "      <td>1</td>\n",
       "      <td>2</td>\n",
       "      <td>35</td>\n",
       "      <td>265</td>\n",
       "      <td>1</td>\n",
       "      <td>8</td>\n",
       "      <td>0.849057</td>\n",
       "      <td>4418</td>\n",
       "    </tr>\n",
       "    <tr>\n",
       "      <th>2</th>\n",
       "      <td>5da399b104f673bbf27304c4</td>\n",
       "      <td>1694428</td>\n",
       "      <td>38.173913</td>\n",
       "      <td>38.913043</td>\n",
       "      <td>1.333333</td>\n",
       "      <td>0.0</td>\n",
       "      <td>0.666667</td>\n",
       "      <td>0.0</td>\n",
       "      <td>145</td>\n",
       "      <td>96</td>\n",
       "      <td>...</td>\n",
       "      <td>23</td>\n",
       "      <td>0</td>\n",
       "      <td>0</td>\n",
       "      <td>1</td>\n",
       "      <td>29</td>\n",
       "      <td>178</td>\n",
       "      <td>0</td>\n",
       "      <td>1</td>\n",
       "      <td>0.814607</td>\n",
       "      <td>9905</td>\n",
       "    </tr>\n",
       "    <tr>\n",
       "      <th>3</th>\n",
       "      <td>5da399b104f673bbf27304d9</td>\n",
       "      <td>1694423</td>\n",
       "      <td>38.173913</td>\n",
       "      <td>38.913043</td>\n",
       "      <td>1.000000</td>\n",
       "      <td>0.0</td>\n",
       "      <td>1.000000</td>\n",
       "      <td>0.0</td>\n",
       "      <td>242</td>\n",
       "      <td>99</td>\n",
       "      <td>...</td>\n",
       "      <td>29</td>\n",
       "      <td>0</td>\n",
       "      <td>0</td>\n",
       "      <td>4</td>\n",
       "      <td>13</td>\n",
       "      <td>286</td>\n",
       "      <td>0</td>\n",
       "      <td>12</td>\n",
       "      <td>0.846154</td>\n",
       "      <td>9905</td>\n",
       "    </tr>\n",
       "    <tr>\n",
       "      <th>4</th>\n",
       "      <td>5da399b204f673bbf27304ee</td>\n",
       "      <td>1694391</td>\n",
       "      <td>30.608696</td>\n",
       "      <td>31.304348</td>\n",
       "      <td>0.000000</td>\n",
       "      <td>0.0</td>\n",
       "      <td>0.000000</td>\n",
       "      <td>0.0</td>\n",
       "      <td>143</td>\n",
       "      <td>84</td>\n",
       "      <td>...</td>\n",
       "      <td>19</td>\n",
       "      <td>1</td>\n",
       "      <td>0</td>\n",
       "      <td>1</td>\n",
       "      <td>21</td>\n",
       "      <td>172</td>\n",
       "      <td>3</td>\n",
       "      <td>4</td>\n",
       "      <td>0.831395</td>\n",
       "      <td>8731</td>\n",
       "    </tr>\n",
       "  </tbody>\n",
       "</table>\n",
       "<p>5 rows × 21 columns</p>\n",
       "</div>"
      ],
      "text/plain": [
       "                        _id  matchId  meanPlayerOverall  meanPlayerPotential  \\\n",
       "0  5da399af04f673bbf273049a  1694430          58.217391            59.478261   \n",
       "1  5da399b004f673bbf27304af  1694390          71.086957            72.217391   \n",
       "2  5da399b104f673bbf27304c4  1694428          38.173913            38.913043   \n",
       "3  5da399b104f673bbf27304d9  1694423          38.173913            38.913043   \n",
       "4  5da399b204f673bbf27304ee  1694391          30.608696            31.304348   \n",
       "\n",
       "   meanPrevScore  meanPrevScoreET  meanPrevScoreHT  meanPrevScoreP  \\\n",
       "0       1.000000              0.0         0.666667             0.0   \n",
       "1       0.000000              0.0         0.000000             0.0   \n",
       "2       1.333333              0.0         0.666667             0.0   \n",
       "3       1.000000              0.0         1.000000             0.0   \n",
       "4       0.000000              0.0         0.000000             0.0   \n",
       "\n",
       "   numAccuratePass  numDuel  ...  numFreeKick  numGoalkeeperLeavingLine  \\\n",
       "0              259      108  ...           16                         0   \n",
       "1              225      115  ...           29                         0   \n",
       "2              145       96  ...           23                         0   \n",
       "3              242       99  ...           29                         0   \n",
       "4              143       84  ...           19                         1   \n",
       "\n",
       "   numInterruption  numOffside  numOthersOnTheBall  numPass  numSaveAttempt  \\\n",
       "0                0           0                  14      294               1   \n",
       "1                1           2                  35      265               1   \n",
       "2                0           1                  29      178               0   \n",
       "3                0           4                  13      286               0   \n",
       "4                0           1                  21      172               3   \n",
       "\n",
       "   numShot  rateAccuratePass  teamId  \n",
       "0       13          0.880952    3148  \n",
       "1        8          0.849057    4418  \n",
       "2        1          0.814607    9905  \n",
       "3       12          0.846154    9905  \n",
       "4        4          0.831395    8731  \n",
       "\n",
       "[5 rows x 21 columns]"
      ]
     },
     "execution_count": 48,
     "metadata": {},
     "output_type": "execute_result"
    }
   ],
   "source": [
    "results.head()"
   ]
  },
  {
   "cell_type": "code",
   "execution_count": 59,
   "metadata": {},
   "outputs": [
    {
     "data": {
      "text/plain": [
       "_id                         0\n",
       "matchId                     0\n",
       "meanPlayerOverall           0\n",
       "meanPlayerPotential         0\n",
       "meanPrevScore               0\n",
       "meanPrevScoreET             0\n",
       "meanPrevScoreHT             0\n",
       "meanPrevScoreP              0\n",
       "numAccuratePass             0\n",
       "numDuel                     0\n",
       "numFoul                     0\n",
       "numFreeKick                 0\n",
       "numGoalkeeperLeavingLine    0\n",
       "numInterruption             0\n",
       "numOffside                  0\n",
       "numOthersOnTheBall          0\n",
       "numPass                     0\n",
       "numSaveAttempt              0\n",
       "numShot                     0\n",
       "rateAccuratePass            0\n",
       "teamId                      0\n",
       "dtype: int64"
      ]
     },
     "execution_count": 59,
     "metadata": {},
     "output_type": "execute_result"
    }
   ],
   "source": [
    "results.isna().sum()"
   ]
  },
  {
   "cell_type": "code",
   "execution_count": 51,
   "metadata": {},
   "outputs": [
    {
     "data": {
      "text/plain": [
       "<matplotlib.axes._subplots.AxesSubplot at 0x7f277f4c44e0>"
      ]
     },
     "execution_count": 51,
     "metadata": {},
     "output_type": "execute_result"
    },
    {
     "data": {
      "image/png": "[encoded data removed]",
      "text/plain": [
       "<Figure size 432x288 with 1 Axes>"
      ]
     },
     "metadata": {
      "needs_background": "light"
     },
     "output_type": "display_data"
    }
   ],
   "source": [
    "results['meanPlayerOverall'].hist()"
   ]
  },
  {
   "cell_type": "code",
   "execution_count": 52,
   "metadata": {},
   "outputs": [
    {
     "data": {
      "text/plain": [
       "<matplotlib.axes._subplots.AxesSubplot at 0x7f277f38f7b8>"
      ]
     },
     "execution_count": 52,
     "metadata": {},
     "output_type": "execute_result"
    },
    {
     "data": {
      "image/png": "[encoded data removed]",
      "text/plain": [
       "<Figure size 432x288 with 1 Axes>"
      ]
     },
     "metadata": {
      "needs_background": "light"
     },
     "output_type": "display_data"
    }
   ],
   "source": [
    "results['meanPlayerPotential'].hist()"
   ]
  },
  {
   "cell_type": "code",
   "execution_count": 53,
   "metadata": {},
   "outputs": [
    {
     "data": {
      "text/plain": [
       "<matplotlib.axes._subplots.AxesSubplot at 0x7f277f406828>"
      ]
     },
     "execution_count": 53,
     "metadata": {},
     "output_type": "execute_result"
    },
    {
     "data": {
      "image/png": "[encoded data removed]",
      "text/plain": [
       "<Figure size 432x288 with 1 Axes>"
      ]
     },
     "metadata": {
      "needs_background": "light"
     },
     "output_type": "display_data"
    }
   ],
   "source": [
    "results['meanPrevScore'].hist()"
   ]
  },
  {
   "cell_type": "code",
   "execution_count": 54,
   "metadata": {},
   "outputs": [
    {
     "data": {
      "text/plain": [
       "<matplotlib.axes._subplots.AxesSubplot at 0x7f277f5c1c88>"
      ]
     },
     "execution_count": 54,
     "metadata": {},
     "output_type": "execute_result"
    },
    {
     "data": {
      "image/png": "[encoded data removed]",
      "text/plain": [
       "<Figure size 432x288 with 1 Axes>"
      ]
     },
     "metadata": {
      "needs_background": "light"
     },
     "output_type": "display_data"
    }
   ],
   "source": [
    "results['meanPrevScoreET'].hist()"
   ]
  },
  {
   "cell_type": "code",
   "execution_count": 55,
   "metadata": {},
   "outputs": [
    {
     "data": {
      "text/plain": [
       "<matplotlib.axes._subplots.AxesSubplot at 0x7f277f20b160>"
      ]
     },
     "execution_count": 55,
     "metadata": {},
     "output_type": "execute_result"
    },
    {
     "data": {
      "image/png": "[encoded data removed]",
      "text/plain": [
       "<Figure size 432x288 with 1 Axes>"
      ]
     },
     "metadata": {
      "needs_background": "light"
     },
     "output_type": "display_data"
    }
   ],
   "source": [
    "results['meanPrevScoreHT'].hist()"
   ]
  },
  {
   "cell_type": "code",
   "execution_count": 56,
   "metadata": {},
   "outputs": [
    {
     "data": {
      "text/plain": [
       "<matplotlib.axes._subplots.AxesSubplot at 0x7f277f5c1470>"
      ]
     },
     "execution_count": 56,
     "metadata": {},
     "output_type": "execute_result"
    },
    {
     "data": {
      "image/png": "[encoded data removed]",
      "text/plain": [
       "<Figure size 432x288 with 1 Axes>"
      ]
     },
     "metadata": {
      "needs_background": "light"
     },
     "output_type": "display_data"
    }
   ],
   "source": [
    "results['meanPrevScoreP'].hist()"
   ]
  },
  {
   "cell_type": "code",
   "execution_count": 57,
   "metadata": {},
   "outputs": [
    {
     "data": {
      "text/plain": [
       "<matplotlib.axes._subplots.AxesSubplot at 0x7f277f131e48>"
      ]
     },
     "execution_count": 57,
     "metadata": {},
     "output_type": "execute_result"
    },
    {
     "data": {
      "image/png": "[encoded data removed]",
      "text/plain": [
       "<Figure size 432x288 with 1 Axes>"
      ]
     },
     "metadata": {
      "needs_background": "light"
     },
     "output_type": "display_data"
    }
   ],
   "source": [
    "results['numAccuratePass'].hist()"
   ]
  },
  {
   "cell_type": "code",
   "execution_count": 58,
   "metadata": {},
   "outputs": [
    {
     "data": {
      "text/plain": [
       "<matplotlib.axes._subplots.AxesSubplot at 0x7f277f229128>"
      ]
     },
     "execution_count": 58,
     "metadata": {},
     "output_type": "execute_result"
    },
    {
     "data": {
      "image/png": "[encoded data removed]",
      "text/plain": [
       "<Figure size 432x288 with 1 Axes>"
      ]
     },
     "metadata": {
      "needs_background": "light"
     },
     "output_type": "display_data"
    }
   ],
   "source": [
    "results['numDuel'].hist()"
   ]
  },
  {
   "cell_type": "code",
   "execution_count": 60,
   "metadata": {},
   "outputs": [
    {
     "data": {
      "text/plain": [
       "<matplotlib.axes._subplots.AxesSubplot at 0x7f277f22da90>"
      ]
     },
     "execution_count": 60,
     "metadata": {},
     "output_type": "execute_result"
    },
    {
     "data": {
      "image/png": "[encoded data removed]",
      "text/plain": [
       "<Figure size 432x288 with 1 Axes>"
      ]
     },
     "metadata": {
      "needs_background": "light"
     },
     "output_type": "display_data"
    }
   ],
   "source": [
    "results['numFoul'].hist()"
   ]
  },
  {
   "cell_type": "code",
   "execution_count": 61,
   "metadata": {},
   "outputs": [
    {
     "data": {
      "text/plain": [
       "<matplotlib.axes._subplots.AxesSubplot at 0x7f277ee21940>"
      ]
     },
     "execution_count": 61,
     "metadata": {},
     "output_type": "execute_result"
    },
    {
     "data": {
      "image/png": "[encoded data removed]",
      "text/plain": [
       "<Figure size 432x288 with 1 Axes>"
      ]
     },
     "metadata": {
      "needs_background": "light"
     },
     "output_type": "display_data"
    }
   ],
   "source": [
    "results['numFreeKick'].hist()"
   ]
  },
  {
   "cell_type": "code",
   "execution_count": 62,
   "metadata": {},
   "outputs": [
    {
     "data": {
      "text/plain": [
       "<matplotlib.axes._subplots.AxesSubplot at 0x7f277ee3ce80>"
      ]
     },
     "execution_count": 62,
     "metadata": {},
     "output_type": "execute_result"
    },
    {
     "data": {
      "image/png": "[encoded data removed]",
      "text/plain": [
       "<Figure size 432x288 with 1 Axes>"
      ]
     },
     "metadata": {
      "needs_background": "light"
     },
     "output_type": "display_data"
    }
   ],
   "source": [
    "results['numGoalkeeperLeavingLine'].hist()"
   ]
  },
  {
   "cell_type": "code",
   "execution_count": 63,
   "metadata": {},
   "outputs": [
    {
     "data": {
      "text/plain": [
       "<matplotlib.axes._subplots.AxesSubplot at 0x7f277f173160>"
      ]
     },
     "execution_count": 63,
     "metadata": {},
     "output_type": "execute_result"
    },
    {
     "data": {
      "image/png": "[encoded data removed]",
      "text/plain": [
       "<Figure size 432x288 with 1 Axes>"
      ]
     },
     "metadata": {
      "needs_background": "light"
     },
     "output_type": "display_data"
    }
   ],
   "source": [
    "results['numInterruption'].hist()"
   ]
  },
  {
   "cell_type": "code",
   "execution_count": 64,
   "metadata": {},
   "outputs": [
    {
     "data": {
      "text/plain": [
       "<matplotlib.axes._subplots.AxesSubplot at 0x7f277f1900b8>"
      ]
     },
     "execution_count": 64,
     "metadata": {},
     "output_type": "execute_result"
    },
    {
     "data": {
      "image/png": "[encoded data removed]",
      "text/plain": [
       "<Figure size 432x288 with 1 Axes>"
      ]
     },
     "metadata": {
      "needs_background": "light"
     },
     "output_type": "display_data"
    }
   ],
   "source": [
    "results['numOffside'].hist()"
   ]
  },
  {
   "cell_type": "code",
   "execution_count": 65,
   "metadata": {},
   "outputs": [
    {
     "data": {
      "text/plain": [
       "<matplotlib.axes._subplots.AxesSubplot at 0x7f277ef311d0>"
      ]
     },
     "execution_count": 65,
     "metadata": {},
     "output_type": "execute_result"
    },
    {
     "data": {
      "image/png": "[encoded data removed]",
      "text/plain": [
       "<Figure size 432x288 with 1 Axes>"
      ]
     },
     "metadata": {
      "needs_background": "light"
     },
     "output_type": "display_data"
    }
   ],
   "source": [
    "results['numOthersOnTheBall'].hist()"
   ]
  },
  {
   "cell_type": "code",
   "execution_count": 66,
   "metadata": {},
   "outputs": [
    {
     "data": {
      "text/plain": [
       "<matplotlib.axes._subplots.AxesSubplot at 0x7f277ef52ac8>"
      ]
     },
     "execution_count": 66,
     "metadata": {},
     "output_type": "execute_result"
    },
    {
     "data": {
      "image/png": "[encoded data removed]",
      "text/plain": [
       "<Figure size 432x288 with 1 Axes>"
      ]
     },
     "metadata": {
      "needs_background": "light"
     },
     "output_type": "display_data"
    }
   ],
   "source": [
    "results['numPass'].hist()"
   ]
  },
  {
   "cell_type": "code",
   "execution_count": 67,
   "metadata": {},
   "outputs": [
    {
     "data": {
      "text/plain": [
       "<matplotlib.axes._subplots.AxesSubplot at 0x7f277ef466d8>"
      ]
     },
     "execution_count": 67,
     "metadata": {},
     "output_type": "execute_result"
    },
    {
     "data": {
      "image/png": "[encoded data removed]",
      "text/plain": [
       "<Figure size 432x288 with 1 Axes>"
      ]
     },
     "metadata": {
      "needs_background": "light"
     },
     "output_type": "display_data"
    }
   ],
   "source": [
    "results['numSaveAttempt'].hist()"
   ]
  },
  {
   "cell_type": "code",
   "execution_count": 68,
   "metadata": {},
   "outputs": [
    {
     "data": {
      "text/plain": [
       "<matplotlib.axes._subplots.AxesSubplot at 0x7f277ef091d0>"
      ]
     },
     "execution_count": 68,
     "metadata": {},
     "output_type": "execute_result"
    },
    {
     "data": {
      "image/png": "[encoded data removed]",
      "text/plain": [
       "<Figure size 432x288 with 1 Axes>"
      ]
     },
     "metadata": {
      "needs_background": "light"
     },
     "output_type": "display_data"
    }
   ],
   "source": [
    "results['numShot'].hist()"
   ]
  },
  {
   "cell_type": "code",
   "execution_count": 69,
   "metadata": {},
   "outputs": [
    {
     "data": {
      "text/plain": [
       "<matplotlib.axes._subplots.AxesSubplot at 0x7f277f1b4f28>"
      ]
     },
     "execution_count": 69,
     "metadata": {},
     "output_type": "execute_result"
    },
    {
     "data": {
      "image/png": "[encoded data removed]",
      "text/plain": [
       "<Figure size 432x288 with 1 Axes>"
      ]
     },
     "metadata": {
      "needs_background": "light"
     },
     "output_type": "display_data"
    }
   ],
   "source": [
    "results['rateAccuratePass'].hist()"
   ]
  },
  {
   "cell_type": "markdown",
   "metadata": {},
   "source": [
    "### Finding outliers"
   ]
  },
  {
   "cell_type": "code",
   "execution_count": 23,
   "metadata": {},
   "outputs": [
    {
     "data": {
      "image/png": "[encoded data removed]",
      "text/plain": [
       "<Figure size 432x288 with 1 Axes>"
      ]
     },
     "metadata": {
      "needs_background": "light"
     },
     "output_type": "display_data"
    }
   ],
   "source": [
    "results['numAccuratePass'].plot(kind='box')\n",
    "plt.show()"
   ]
  },
  {
   "cell_type": "code",
   "execution_count": 22,
   "metadata": {},
   "outputs": [
    {
     "data": {
      "image/png": "[encoded data removed]",
      "text/plain": [
       "<Figure size 432x288 with 1 Axes>"
      ]
     },
     "metadata": {
      "needs_background": "light"
     },
     "output_type": "display_data"
    }
   ],
   "source": [
    "results['numDuel'].plot(kind='box')\n",
    "plt.show()"
   ]
  },
  {
   "cell_type": "code",
   "execution_count": 19,
   "metadata": {},
   "outputs": [
    {
     "data": {
      "image/png": "[encoded data removed]",
      "text/plain": [
       "<Figure size 432x288 with 1 Axes>"
      ]
     },
     "metadata": {
      "needs_background": "light"
     },
     "output_type": "display_data"
    }
   ],
   "source": [
    "results['numGoalkeeperLeavingLine'].plot(kind='box')\n",
    "plt.show()"
   ]
  },
  {
   "cell_type": "code",
   "execution_count": 18,
   "metadata": {},
   "outputs": [
    {
     "data": {
      "image/png": "[encoded data removed]",
      "text/plain": [
       "<Figure size 432x288 with 1 Axes>"
      ]
     },
     "metadata": {
      "needs_background": "light"
     },
     "output_type": "display_data"
    }
   ],
   "source": [
    "results['numInterruption'].plot(kind='box')\n",
    "plt.show()"
   ]
  },
  {
   "cell_type": "code",
   "execution_count": 17,
   "metadata": {},
   "outputs": [
    {
     "data": {
      "image/png": "[encoded data removed]",
      "text/plain": [
       "<Figure size 432x288 with 1 Axes>"
      ]
     },
     "metadata": {
      "needs_background": "light"
     },
     "output_type": "display_data"
    }
   ],
   "source": [
    "results['numOffside'].plot(kind='box')\n",
    "plt.show()"
   ]
  },
  {
   "cell_type": "code",
   "execution_count": 16,
   "metadata": {},
   "outputs": [
    {
     "data": {
      "image/png": "[encoded data removed]",
      "text/plain": [
       "<Figure size 432x288 with 1 Axes>"
      ]
     },
     "metadata": {
      "needs_background": "light"
     },
     "output_type": "display_data"
    }
   ],
   "source": [
    "results['numOthersOnTheBall'].plot(kind='box')\n",
    "plt.show()\n"
   ]
  },
  {
   "cell_type": "code",
   "execution_count": 15,
   "metadata": {},
   "outputs": [
    {
     "data": {
      "image/png": "[encoded data removed]",
      "text/plain": [
       "<Figure size 432x288 with 1 Axes>"
      ]
     },
     "metadata": {
      "needs_background": "light"
     },
     "output_type": "display_data"
    }
   ],
   "source": [
    "results['numPass'].plot(kind='box')\n",
    "plt.show()"
   ]
  },
  {
   "cell_type": "code",
   "execution_count": null,
   "metadata": {},
   "outputs": [],
   "source": []
  },
  {
   "cell_type": "code",
   "execution_count": null,
   "metadata": {},
   "outputs": [],
   "source": [
    "new = results[['meanPrevScoreET', 'meanPrevScoreP', 'meanPrevScoreHT', 'meanPrevScore']].copy()\n",
    "new.plot.box()"
   ]
  },
  {
   "cell_type": "code",
   "execution_count": 12,
   "metadata": {},
   "outputs": [
    {
     "data": {
      "image/png": "[encoded data removed]",
      "text/plain": [
       "<Figure size 432x288 with 1 Axes>"
      ]
     },
     "metadata": {
      "needs_background": "light"
     },
     "output_type": "display_data"
    }
   ],
   "source": [
    "results['rateAccuratePass'].plot(kind='box')\n",
    "plt.show()"
   ]
  },
  {
   "cell_type": "code",
   "execution_count": 40,
   "metadata": {},
   "outputs": [
    {
     "data": {
      "text/plain": [
       "<matplotlib.axes._subplots.AxesSubplot at 0x7f1d2bb917b8>"
      ]
     },
     "execution_count": 40,
     "metadata": {},
     "output_type": "execute_result"
    },
    {
     "data": {
      "image/png": "[encoded data removed]",
      "text/plain": [
       "<Figure size 432x288 with 1 Axes>"
      ]
     },
     "metadata": {
      "needs_background": "light"
     },
     "output_type": "display_data"
    }
   ],
   "source": [
    "new = results[['meanPrevScoreET', 'meanPrevScoreP', 'meanPrevScoreHT', 'meanPrevScore']].copy()\n",
    "new.plot.box()"
   ]
  },
  {
   "cell_type": "code",
   "execution_count": 41,
   "metadata": {},
   "outputs": [
    {
     "data": {
      "text/plain": [
       "<matplotlib.axes._subplots.AxesSubplot at 0x7f1d2bb5ec88>"
      ]
     },
     "execution_count": 41,
     "metadata": {},
     "output_type": "execute_result"
    },
    {
     "data": {
      "image/png": "[encoded data removed]",
      "text/plain": [
       "<Figure size 432x288 with 1 Axes>"
      ]
     },
     "metadata": {
      "needs_background": "light"
     },
     "output_type": "display_data"
    }
   ],
   "source": [
    "new = results[['numShot', 'numSaveAttempt', 'numFoul', 'numFreeKick']].copy()\n",
    "new.plot.box()"
   ]
  }
 ],
 "metadata": {
  "kernelspec": {
   "display_name": "Python 3",
   "language": "python",
   "name": "python3"
  },
  "language_info": {
   "codemirror_mode": {
    "name": "ipython",
    "version": 3
   },
   "file_extension": ".py",
   "mimetype": "text/x-python",
   "name": "python",
   "nbconvert_exporter": "python",
   "pygments_lexer": "ipython3",
   "version": "3.5.2"
  }
 },
 "nbformat": 4,
 "nbformat_minor": 2
}
